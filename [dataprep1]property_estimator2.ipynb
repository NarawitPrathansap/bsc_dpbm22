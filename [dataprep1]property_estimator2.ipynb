{
  "nbformat": 4,
  "nbformat_minor": 0,
  "metadata": {
    "colab": {
      "provenance": [],
      "toc_visible": true,
      "authorship_tag": "ABX9TyPbsfgDKo2NBk773SoqrZ0F",
      "include_colab_link": true
    },
    "kernelspec": {
      "name": "python3",
      "display_name": "Python 3"
    },
    "language_info": {
      "name": "python"
    }
  },
  "cells": [
    {
      "cell_type": "markdown",
      "metadata": {
        "id": "view-in-github",
        "colab_type": "text"
      },
      "source": [
        "<a href=\"https://colab.research.google.com/github/NarawitPrathansap/bsc_dpbm22/blob/main/%5Bdataprep1%5Dproperty_estimator2.ipynb\" target=\"_parent\"><img src=\"https://colab.research.google.com/assets/colab-badge.svg\" alt=\"Open In Colab\"/></a>"
      ]
    },
    {
      "cell_type": "markdown",
      "source": [
        "##quiz"
      ],
      "metadata": {
        "id": "uIN8qxxhWm6F"
      }
    },
    {
      "cell_type": "code",
      "execution_count": null,
      "metadata": {
        "colab": {
          "base_uri": "https://localhost:8080/"
        },
        "id": "d23IxCVvWiWQ",
        "outputId": "6ea42e7a-a7d4-475f-d7a5-1fde1020539c"
      },
      "outputs": [
        {
          "output_type": "stream",
          "name": "stdout",
          "text": [
            "Drive already mounted at /content/gdrive; to attempt to forcibly remount, call drive.mount(\"/content/gdrive\", force_remount=True).\n"
          ]
        }
      ],
      "source": [
        "import pandas as pd\n",
        "from google.colab import drive \n",
        "drive.mount('/content/gdrive')    "
      ]
    },
    {
      "cell_type": "markdown",
      "source": [
        "# สรุปข้อมูลของนักประเมินแต่ละคน โดยพิจารณาจาก ความมั่นใจในการประเมิน ประเมินราคาซื้อ-ขาย ให้คะแนนทรัพย์"
      ],
      "metadata": {
        "id": "4CToTWP3YXxt"
      }
    },
    {
      "cell_type": "code",
      "source": [
        "home = pd.read_excel('/content/gdrive/MyDrive/bsc_DPBM_data_N/คำตอบนักประเมิน.xlsx',sheet_name=0)\n",
        "home.head()"
      ],
      "metadata": {
        "colab": {
          "base_uri": "https://localhost:8080/",
          "height": 825
        },
        "id": "n82OSNqcXMkH",
        "outputId": "883869a7-8b45-42be-fcc6-eadb7d782b7e"
      },
      "execution_count": null,
      "outputs": [
        {
          "output_type": "execute_result",
          "data": {
            "text/plain": [
              "   ID ผู้ประเมิน                              post id property_type  \\\n",
              "0              1   https://nayoo.co/khonkaen/posts/25    บ้านเดี่ยว   \n",
              "1              2   https://nayoo.co/khonkaen/posts/25    บ้านเดี่ยว   \n",
              "2              1   https://nayoo.co/khonkaen/posts/33    บ้านเดี่ยว   \n",
              "3              2   https://nayoo.co/khonkaen/posts/33    บ้านเดี่ยว   \n",
              "4              1  https://nayoo.co/khonkaen/posts/495    บ้านเดี่ยว   \n",
              "\n",
              "  ความมั่นใจในการเมินราคาทรัพย์  ราคาทรัพย์  ประเมินราคาซื้อ-ขาย  \\\n",
              "0                        มั่นใจ   2700000.0            2500000.0   \n",
              "1                        มั่นใจ   2700000.0            2700000.0   \n",
              "2                        มั่นใจ   2600000.0            2200000.0   \n",
              "3                        มั่นใจ   2600000.0            2400000.0   \n",
              "4                        มั่นใจ   5900000.0            5000000.0   \n",
              "\n",
              "                      ปัจจัยในการประเมินราคาซื้อ-ขาย  \\\n",
              "0                                       5,000-15,000   \n",
              "1  โครงการนี้ราคาเสนอขาย 2,500,000-3,000,000 บาท/...   \n",
              "2                                       5,000-15,000   \n",
              "3   ราคาเสนอขายประมาณ 2,200,000 - 2,500,000 บาท/หลัง   \n",
              "4                                       5,000-15,000   \n",
              "\n",
              "  เหตุผลไม่มั่นใจราคาประเมิน                      ให้คะแนนทรัพย์  Unnamed: 9  \\\n",
              "0                        NaN   3 ขายได้ ใช้ระยะเวลา 7 - 12 เดือน         NaN   \n",
              "1                        NaN    4 ขายได้ ใช้ระยะเวลา 4 - 6 เดือน         NaN   \n",
              "2                        NaN  2 ขายได้ยาก ใช้ระยะเวลามากว่า 1 ปี         NaN   \n",
              "3                        NaN   3 ขายได้ ใช้ระยะเวลา 7 - 12 เดือน         NaN   \n",
              "4                        NaN   3 ขายได้ ใช้ระยะเวลา 7 - 12 เดือน         NaN   \n",
              "\n",
              "   Unnamed: 10  Unnamed: 11  Unnamed: 12  Unnamed: 13  \n",
              "0          NaN          NaN          NaN        100.0  \n",
              "1          NaN          NaN          NaN          NaN  \n",
              "2          NaN          NaN          NaN          NaN  \n",
              "3          NaN          NaN          NaN          NaN  \n",
              "4          NaN          NaN          NaN          NaN  "
            ],
            "text/html": [
              "\n",
              "  <div id=\"df-ed9e6bf8-f6c9-4d8e-8309-4b56262c95ef\">\n",
              "    <div class=\"colab-df-container\">\n",
              "      <div>\n",
              "<style scoped>\n",
              "    .dataframe tbody tr th:only-of-type {\n",
              "        vertical-align: middle;\n",
              "    }\n",
              "\n",
              "    .dataframe tbody tr th {\n",
              "        vertical-align: top;\n",
              "    }\n",
              "\n",
              "    .dataframe thead th {\n",
              "        text-align: right;\n",
              "    }\n",
              "</style>\n",
              "<table border=\"1\" class=\"dataframe\">\n",
              "  <thead>\n",
              "    <tr style=\"text-align: right;\">\n",
              "      <th></th>\n",
              "      <th>ID ผู้ประเมิน</th>\n",
              "      <th>post id</th>\n",
              "      <th>property_type</th>\n",
              "      <th>ความมั่นใจในการเมินราคาทรัพย์</th>\n",
              "      <th>ราคาทรัพย์</th>\n",
              "      <th>ประเมินราคาซื้อ-ขาย</th>\n",
              "      <th>ปัจจัยในการประเมินราคาซื้อ-ขาย</th>\n",
              "      <th>เหตุผลไม่มั่นใจราคาประเมิน</th>\n",
              "      <th>ให้คะแนนทรัพย์</th>\n",
              "      <th>Unnamed: 9</th>\n",
              "      <th>Unnamed: 10</th>\n",
              "      <th>Unnamed: 11</th>\n",
              "      <th>Unnamed: 12</th>\n",
              "      <th>Unnamed: 13</th>\n",
              "    </tr>\n",
              "  </thead>\n",
              "  <tbody>\n",
              "    <tr>\n",
              "      <th>0</th>\n",
              "      <td>1</td>\n",
              "      <td>https://nayoo.co/khonkaen/posts/25</td>\n",
              "      <td>บ้านเดี่ยว</td>\n",
              "      <td>มั่นใจ</td>\n",
              "      <td>2700000.0</td>\n",
              "      <td>2500000.0</td>\n",
              "      <td>5,000-15,000</td>\n",
              "      <td>NaN</td>\n",
              "      <td>3 ขายได้ ใช้ระยะเวลา 7 - 12 เดือน</td>\n",
              "      <td>NaN</td>\n",
              "      <td>NaN</td>\n",
              "      <td>NaN</td>\n",
              "      <td>NaN</td>\n",
              "      <td>100.0</td>\n",
              "    </tr>\n",
              "    <tr>\n",
              "      <th>1</th>\n",
              "      <td>2</td>\n",
              "      <td>https://nayoo.co/khonkaen/posts/25</td>\n",
              "      <td>บ้านเดี่ยว</td>\n",
              "      <td>มั่นใจ</td>\n",
              "      <td>2700000.0</td>\n",
              "      <td>2700000.0</td>\n",
              "      <td>โครงการนี้ราคาเสนอขาย 2,500,000-3,000,000 บาท/...</td>\n",
              "      <td>NaN</td>\n",
              "      <td>4 ขายได้ ใช้ระยะเวลา 4 - 6 เดือน</td>\n",
              "      <td>NaN</td>\n",
              "      <td>NaN</td>\n",
              "      <td>NaN</td>\n",
              "      <td>NaN</td>\n",
              "      <td>NaN</td>\n",
              "    </tr>\n",
              "    <tr>\n",
              "      <th>2</th>\n",
              "      <td>1</td>\n",
              "      <td>https://nayoo.co/khonkaen/posts/33</td>\n",
              "      <td>บ้านเดี่ยว</td>\n",
              "      <td>มั่นใจ</td>\n",
              "      <td>2600000.0</td>\n",
              "      <td>2200000.0</td>\n",
              "      <td>5,000-15,000</td>\n",
              "      <td>NaN</td>\n",
              "      <td>2 ขายได้ยาก ใช้ระยะเวลามากว่า 1 ปี</td>\n",
              "      <td>NaN</td>\n",
              "      <td>NaN</td>\n",
              "      <td>NaN</td>\n",
              "      <td>NaN</td>\n",
              "      <td>NaN</td>\n",
              "    </tr>\n",
              "    <tr>\n",
              "      <th>3</th>\n",
              "      <td>2</td>\n",
              "      <td>https://nayoo.co/khonkaen/posts/33</td>\n",
              "      <td>บ้านเดี่ยว</td>\n",
              "      <td>มั่นใจ</td>\n",
              "      <td>2600000.0</td>\n",
              "      <td>2400000.0</td>\n",
              "      <td>ราคาเสนอขายประมาณ 2,200,000 - 2,500,000 บาท/หลัง</td>\n",
              "      <td>NaN</td>\n",
              "      <td>3 ขายได้ ใช้ระยะเวลา 7 - 12 เดือน</td>\n",
              "      <td>NaN</td>\n",
              "      <td>NaN</td>\n",
              "      <td>NaN</td>\n",
              "      <td>NaN</td>\n",
              "      <td>NaN</td>\n",
              "    </tr>\n",
              "    <tr>\n",
              "      <th>4</th>\n",
              "      <td>1</td>\n",
              "      <td>https://nayoo.co/khonkaen/posts/495</td>\n",
              "      <td>บ้านเดี่ยว</td>\n",
              "      <td>มั่นใจ</td>\n",
              "      <td>5900000.0</td>\n",
              "      <td>5000000.0</td>\n",
              "      <td>5,000-15,000</td>\n",
              "      <td>NaN</td>\n",
              "      <td>3 ขายได้ ใช้ระยะเวลา 7 - 12 เดือน</td>\n",
              "      <td>NaN</td>\n",
              "      <td>NaN</td>\n",
              "      <td>NaN</td>\n",
              "      <td>NaN</td>\n",
              "      <td>NaN</td>\n",
              "    </tr>\n",
              "  </tbody>\n",
              "</table>\n",
              "</div>\n",
              "      <button class=\"colab-df-convert\" onclick=\"convertToInteractive('df-ed9e6bf8-f6c9-4d8e-8309-4b56262c95ef')\"\n",
              "              title=\"Convert this dataframe to an interactive table.\"\n",
              "              style=\"display:none;\">\n",
              "        \n",
              "  <svg xmlns=\"http://www.w3.org/2000/svg\" height=\"24px\"viewBox=\"0 0 24 24\"\n",
              "       width=\"24px\">\n",
              "    <path d=\"M0 0h24v24H0V0z\" fill=\"none\"/>\n",
              "    <path d=\"M18.56 5.44l.94 2.06.94-2.06 2.06-.94-2.06-.94-.94-2.06-.94 2.06-2.06.94zm-11 1L8.5 8.5l.94-2.06 2.06-.94-2.06-.94L8.5 2.5l-.94 2.06-2.06.94zm10 10l.94 2.06.94-2.06 2.06-.94-2.06-.94-.94-2.06-.94 2.06-2.06.94z\"/><path d=\"M17.41 7.96l-1.37-1.37c-.4-.4-.92-.59-1.43-.59-.52 0-1.04.2-1.43.59L10.3 9.45l-7.72 7.72c-.78.78-.78 2.05 0 2.83L4 21.41c.39.39.9.59 1.41.59.51 0 1.02-.2 1.41-.59l7.78-7.78 2.81-2.81c.8-.78.8-2.07 0-2.86zM5.41 20L4 18.59l7.72-7.72 1.47 1.35L5.41 20z\"/>\n",
              "  </svg>\n",
              "      </button>\n",
              "      \n",
              "  <style>\n",
              "    .colab-df-container {\n",
              "      display:flex;\n",
              "      flex-wrap:wrap;\n",
              "      gap: 12px;\n",
              "    }\n",
              "\n",
              "    .colab-df-convert {\n",
              "      background-color: #E8F0FE;\n",
              "      border: none;\n",
              "      border-radius: 50%;\n",
              "      cursor: pointer;\n",
              "      display: none;\n",
              "      fill: #1967D2;\n",
              "      height: 32px;\n",
              "      padding: 0 0 0 0;\n",
              "      width: 32px;\n",
              "    }\n",
              "\n",
              "    .colab-df-convert:hover {\n",
              "      background-color: #E2EBFA;\n",
              "      box-shadow: 0px 1px 2px rgba(60, 64, 67, 0.3), 0px 1px 3px 1px rgba(60, 64, 67, 0.15);\n",
              "      fill: #174EA6;\n",
              "    }\n",
              "\n",
              "    [theme=dark] .colab-df-convert {\n",
              "      background-color: #3B4455;\n",
              "      fill: #D2E3FC;\n",
              "    }\n",
              "\n",
              "    [theme=dark] .colab-df-convert:hover {\n",
              "      background-color: #434B5C;\n",
              "      box-shadow: 0px 1px 3px 1px rgba(0, 0, 0, 0.15);\n",
              "      filter: drop-shadow(0px 1px 2px rgba(0, 0, 0, 0.3));\n",
              "      fill: #FFFFFF;\n",
              "    }\n",
              "  </style>\n",
              "\n",
              "      <script>\n",
              "        const buttonEl =\n",
              "          document.querySelector('#df-ed9e6bf8-f6c9-4d8e-8309-4b56262c95ef button.colab-df-convert');\n",
              "        buttonEl.style.display =\n",
              "          google.colab.kernel.accessAllowed ? 'block' : 'none';\n",
              "\n",
              "        async function convertToInteractive(key) {\n",
              "          const element = document.querySelector('#df-ed9e6bf8-f6c9-4d8e-8309-4b56262c95ef');\n",
              "          const dataTable =\n",
              "            await google.colab.kernel.invokeFunction('convertToInteractive',\n",
              "                                                     [key], {});\n",
              "          if (!dataTable) return;\n",
              "\n",
              "          const docLinkHtml = 'Like what you see? Visit the ' +\n",
              "            '<a target=\"_blank\" href=https://colab.research.google.com/notebooks/data_table.ipynb>data table notebook</a>'\n",
              "            + ' to learn more about interactive tables.';\n",
              "          element.innerHTML = '';\n",
              "          dataTable['output_type'] = 'display_data';\n",
              "          await google.colab.output.renderOutput(dataTable, element);\n",
              "          const docLink = document.createElement('div');\n",
              "          docLink.innerHTML = docLinkHtml;\n",
              "          element.appendChild(docLink);\n",
              "        }\n",
              "      </script>\n",
              "    </div>\n",
              "  </div>\n",
              "  "
            ]
          },
          "metadata": {},
          "execution_count": 323
        }
      ]
    },
    {
      "cell_type": "markdown",
      "source": [
        "## นักประเมินคนที่ 1 "
      ],
      "metadata": {
        "id": "f_zNoyyAYQx5"
      }
    },
    {
      "cell_type": "code",
      "source": [
        "est1_home = home[home['ID ผู้ประเมิน']==1]"
      ],
      "metadata": {
        "id": "Pd3hTXlccUPC"
      },
      "execution_count": null,
      "outputs": []
    },
    {
      "cell_type": "code",
      "source": [
        "est1_home.describe()"
      ],
      "metadata": {
        "colab": {
          "base_uri": "https://localhost:8080/",
          "height": 300
        },
        "id": "uS8pTWu0YnsD",
        "outputId": "4d05c1bc-7483-4386-c9b5-82ef468ccc07"
      },
      "execution_count": null,
      "outputs": [
        {
          "output_type": "execute_result",
          "data": {
            "text/plain": [
              "       ID ผู้ประเมิน    ราคาทรัพย์  ประเมินราคาซื้อ-ขาย  Unnamed: 9  \\\n",
              "count          100.0  1.000000e+02         1.000000e+02         0.0   \n",
              "mean             1.0  4.316360e+06         3.938500e+06         NaN   \n",
              "std              0.0  2.865391e+06         2.368553e+06         NaN   \n",
              "min              1.0  3.900000e+05         6.000000e+05         NaN   \n",
              "25%              1.0  2.892750e+06         2.775000e+06         NaN   \n",
              "50%              1.0  3.962000e+06         3.600000e+06         NaN   \n",
              "75%              1.0  5.000000e+06         4.500000e+06         NaN   \n",
              "max              1.0  2.094900e+07         1.600000e+07         NaN   \n",
              "\n",
              "       Unnamed: 10  Unnamed: 11  Unnamed: 12  Unnamed: 13  \n",
              "count          0.0          0.0          0.0          1.0  \n",
              "mean           NaN          NaN          NaN        100.0  \n",
              "std            NaN          NaN          NaN          NaN  \n",
              "min            NaN          NaN          NaN        100.0  \n",
              "25%            NaN          NaN          NaN        100.0  \n",
              "50%            NaN          NaN          NaN        100.0  \n",
              "75%            NaN          NaN          NaN        100.0  \n",
              "max            NaN          NaN          NaN        100.0  "
            ],
            "text/html": [
              "\n",
              "  <div id=\"df-7dd02b59-f481-47fe-946d-e0289de4a796\">\n",
              "    <div class=\"colab-df-container\">\n",
              "      <div>\n",
              "<style scoped>\n",
              "    .dataframe tbody tr th:only-of-type {\n",
              "        vertical-align: middle;\n",
              "    }\n",
              "\n",
              "    .dataframe tbody tr th {\n",
              "        vertical-align: top;\n",
              "    }\n",
              "\n",
              "    .dataframe thead th {\n",
              "        text-align: right;\n",
              "    }\n",
              "</style>\n",
              "<table border=\"1\" class=\"dataframe\">\n",
              "  <thead>\n",
              "    <tr style=\"text-align: right;\">\n",
              "      <th></th>\n",
              "      <th>ID ผู้ประเมิน</th>\n",
              "      <th>ราคาทรัพย์</th>\n",
              "      <th>ประเมินราคาซื้อ-ขาย</th>\n",
              "      <th>Unnamed: 9</th>\n",
              "      <th>Unnamed: 10</th>\n",
              "      <th>Unnamed: 11</th>\n",
              "      <th>Unnamed: 12</th>\n",
              "      <th>Unnamed: 13</th>\n",
              "    </tr>\n",
              "  </thead>\n",
              "  <tbody>\n",
              "    <tr>\n",
              "      <th>count</th>\n",
              "      <td>100.0</td>\n",
              "      <td>1.000000e+02</td>\n",
              "      <td>1.000000e+02</td>\n",
              "      <td>0.0</td>\n",
              "      <td>0.0</td>\n",
              "      <td>0.0</td>\n",
              "      <td>0.0</td>\n",
              "      <td>1.0</td>\n",
              "    </tr>\n",
              "    <tr>\n",
              "      <th>mean</th>\n",
              "      <td>1.0</td>\n",
              "      <td>4.316360e+06</td>\n",
              "      <td>3.938500e+06</td>\n",
              "      <td>NaN</td>\n",
              "      <td>NaN</td>\n",
              "      <td>NaN</td>\n",
              "      <td>NaN</td>\n",
              "      <td>100.0</td>\n",
              "    </tr>\n",
              "    <tr>\n",
              "      <th>std</th>\n",
              "      <td>0.0</td>\n",
              "      <td>2.865391e+06</td>\n",
              "      <td>2.368553e+06</td>\n",
              "      <td>NaN</td>\n",
              "      <td>NaN</td>\n",
              "      <td>NaN</td>\n",
              "      <td>NaN</td>\n",
              "      <td>NaN</td>\n",
              "    </tr>\n",
              "    <tr>\n",
              "      <th>min</th>\n",
              "      <td>1.0</td>\n",
              "      <td>3.900000e+05</td>\n",
              "      <td>6.000000e+05</td>\n",
              "      <td>NaN</td>\n",
              "      <td>NaN</td>\n",
              "      <td>NaN</td>\n",
              "      <td>NaN</td>\n",
              "      <td>100.0</td>\n",
              "    </tr>\n",
              "    <tr>\n",
              "      <th>25%</th>\n",
              "      <td>1.0</td>\n",
              "      <td>2.892750e+06</td>\n",
              "      <td>2.775000e+06</td>\n",
              "      <td>NaN</td>\n",
              "      <td>NaN</td>\n",
              "      <td>NaN</td>\n",
              "      <td>NaN</td>\n",
              "      <td>100.0</td>\n",
              "    </tr>\n",
              "    <tr>\n",
              "      <th>50%</th>\n",
              "      <td>1.0</td>\n",
              "      <td>3.962000e+06</td>\n",
              "      <td>3.600000e+06</td>\n",
              "      <td>NaN</td>\n",
              "      <td>NaN</td>\n",
              "      <td>NaN</td>\n",
              "      <td>NaN</td>\n",
              "      <td>100.0</td>\n",
              "    </tr>\n",
              "    <tr>\n",
              "      <th>75%</th>\n",
              "      <td>1.0</td>\n",
              "      <td>5.000000e+06</td>\n",
              "      <td>4.500000e+06</td>\n",
              "      <td>NaN</td>\n",
              "      <td>NaN</td>\n",
              "      <td>NaN</td>\n",
              "      <td>NaN</td>\n",
              "      <td>100.0</td>\n",
              "    </tr>\n",
              "    <tr>\n",
              "      <th>max</th>\n",
              "      <td>1.0</td>\n",
              "      <td>2.094900e+07</td>\n",
              "      <td>1.600000e+07</td>\n",
              "      <td>NaN</td>\n",
              "      <td>NaN</td>\n",
              "      <td>NaN</td>\n",
              "      <td>NaN</td>\n",
              "      <td>100.0</td>\n",
              "    </tr>\n",
              "  </tbody>\n",
              "</table>\n",
              "</div>\n",
              "      <button class=\"colab-df-convert\" onclick=\"convertToInteractive('df-7dd02b59-f481-47fe-946d-e0289de4a796')\"\n",
              "              title=\"Convert this dataframe to an interactive table.\"\n",
              "              style=\"display:none;\">\n",
              "        \n",
              "  <svg xmlns=\"http://www.w3.org/2000/svg\" height=\"24px\"viewBox=\"0 0 24 24\"\n",
              "       width=\"24px\">\n",
              "    <path d=\"M0 0h24v24H0V0z\" fill=\"none\"/>\n",
              "    <path d=\"M18.56 5.44l.94 2.06.94-2.06 2.06-.94-2.06-.94-.94-2.06-.94 2.06-2.06.94zm-11 1L8.5 8.5l.94-2.06 2.06-.94-2.06-.94L8.5 2.5l-.94 2.06-2.06.94zm10 10l.94 2.06.94-2.06 2.06-.94-2.06-.94-.94-2.06-.94 2.06-2.06.94z\"/><path d=\"M17.41 7.96l-1.37-1.37c-.4-.4-.92-.59-1.43-.59-.52 0-1.04.2-1.43.59L10.3 9.45l-7.72 7.72c-.78.78-.78 2.05 0 2.83L4 21.41c.39.39.9.59 1.41.59.51 0 1.02-.2 1.41-.59l7.78-7.78 2.81-2.81c.8-.78.8-2.07 0-2.86zM5.41 20L4 18.59l7.72-7.72 1.47 1.35L5.41 20z\"/>\n",
              "  </svg>\n",
              "      </button>\n",
              "      \n",
              "  <style>\n",
              "    .colab-df-container {\n",
              "      display:flex;\n",
              "      flex-wrap:wrap;\n",
              "      gap: 12px;\n",
              "    }\n",
              "\n",
              "    .colab-df-convert {\n",
              "      background-color: #E8F0FE;\n",
              "      border: none;\n",
              "      border-radius: 50%;\n",
              "      cursor: pointer;\n",
              "      display: none;\n",
              "      fill: #1967D2;\n",
              "      height: 32px;\n",
              "      padding: 0 0 0 0;\n",
              "      width: 32px;\n",
              "    }\n",
              "\n",
              "    .colab-df-convert:hover {\n",
              "      background-color: #E2EBFA;\n",
              "      box-shadow: 0px 1px 2px rgba(60, 64, 67, 0.3), 0px 1px 3px 1px rgba(60, 64, 67, 0.15);\n",
              "      fill: #174EA6;\n",
              "    }\n",
              "\n",
              "    [theme=dark] .colab-df-convert {\n",
              "      background-color: #3B4455;\n",
              "      fill: #D2E3FC;\n",
              "    }\n",
              "\n",
              "    [theme=dark] .colab-df-convert:hover {\n",
              "      background-color: #434B5C;\n",
              "      box-shadow: 0px 1px 3px 1px rgba(0, 0, 0, 0.15);\n",
              "      filter: drop-shadow(0px 1px 2px rgba(0, 0, 0, 0.3));\n",
              "      fill: #FFFFFF;\n",
              "    }\n",
              "  </style>\n",
              "\n",
              "      <script>\n",
              "        const buttonEl =\n",
              "          document.querySelector('#df-7dd02b59-f481-47fe-946d-e0289de4a796 button.colab-df-convert');\n",
              "        buttonEl.style.display =\n",
              "          google.colab.kernel.accessAllowed ? 'block' : 'none';\n",
              "\n",
              "        async function convertToInteractive(key) {\n",
              "          const element = document.querySelector('#df-7dd02b59-f481-47fe-946d-e0289de4a796');\n",
              "          const dataTable =\n",
              "            await google.colab.kernel.invokeFunction('convertToInteractive',\n",
              "                                                     [key], {});\n",
              "          if (!dataTable) return;\n",
              "\n",
              "          const docLinkHtml = 'Like what you see? Visit the ' +\n",
              "            '<a target=\"_blank\" href=https://colab.research.google.com/notebooks/data_table.ipynb>data table notebook</a>'\n",
              "            + ' to learn more about interactive tables.';\n",
              "          element.innerHTML = '';\n",
              "          dataTable['output_type'] = 'display_data';\n",
              "          await google.colab.output.renderOutput(dataTable, element);\n",
              "          const docLink = document.createElement('div');\n",
              "          docLink.innerHTML = docLinkHtml;\n",
              "          element.appendChild(docLink);\n",
              "        }\n",
              "      </script>\n",
              "    </div>\n",
              "  </div>\n",
              "  "
            ]
          },
          "metadata": {},
          "execution_count": 325
        }
      ]
    },
    {
      "cell_type": "markdown",
      "source": [
        "## นักประเมินคนที่ 2"
      ],
      "metadata": {
        "id": "SKOlA3gjYXeG"
      }
    },
    {
      "cell_type": "code",
      "source": [
        "est2_home = home[home['ID ผู้ประเมิน']==2]"
      ],
      "metadata": {
        "id": "nOsisKWkczWC"
      },
      "execution_count": null,
      "outputs": []
    },
    {
      "cell_type": "code",
      "source": [
        "est2_home.describe()"
      ],
      "metadata": {
        "colab": {
          "base_uri": "https://localhost:8080/",
          "height": 300
        },
        "id": "e5c5hmEjc2Uo",
        "outputId": "7d849602-9076-4eea-86c7-69d6dffebd44"
      },
      "execution_count": null,
      "outputs": [
        {
          "output_type": "execute_result",
          "data": {
            "text/plain": [
              "       ID ผู้ประเมิน    ราคาทรัพย์  ประเมินราคาซื้อ-ขาย  Unnamed: 9  \\\n",
              "count           90.0  9.000000e+01         8.900000e+01         0.0   \n",
              "mean             2.0  4.240733e+06         4.153258e+06         NaN   \n",
              "std              0.0  2.714815e+06         2.386901e+06         NaN   \n",
              "min              2.0  3.900000e+05         9.900000e+05         NaN   \n",
              "25%              2.0  2.860000e+06         2.600000e+06         NaN   \n",
              "50%              2.0  4.000000e+06         3.900000e+06         NaN   \n",
              "75%              2.0  5.000000e+06         4.900000e+06         NaN   \n",
              "max              2.0  2.094900e+07         1.700000e+07         NaN   \n",
              "\n",
              "       Unnamed: 10  Unnamed: 11  Unnamed: 12  Unnamed: 13  \n",
              "count          0.0          0.0          0.0          0.0  \n",
              "mean           NaN          NaN          NaN          NaN  \n",
              "std            NaN          NaN          NaN          NaN  \n",
              "min            NaN          NaN          NaN          NaN  \n",
              "25%            NaN          NaN          NaN          NaN  \n",
              "50%            NaN          NaN          NaN          NaN  \n",
              "75%            NaN          NaN          NaN          NaN  \n",
              "max            NaN          NaN          NaN          NaN  "
            ],
            "text/html": [
              "\n",
              "  <div id=\"df-995afc1a-c4c0-4ffb-9a89-dc6a0ae5a40f\">\n",
              "    <div class=\"colab-df-container\">\n",
              "      <div>\n",
              "<style scoped>\n",
              "    .dataframe tbody tr th:only-of-type {\n",
              "        vertical-align: middle;\n",
              "    }\n",
              "\n",
              "    .dataframe tbody tr th {\n",
              "        vertical-align: top;\n",
              "    }\n",
              "\n",
              "    .dataframe thead th {\n",
              "        text-align: right;\n",
              "    }\n",
              "</style>\n",
              "<table border=\"1\" class=\"dataframe\">\n",
              "  <thead>\n",
              "    <tr style=\"text-align: right;\">\n",
              "      <th></th>\n",
              "      <th>ID ผู้ประเมิน</th>\n",
              "      <th>ราคาทรัพย์</th>\n",
              "      <th>ประเมินราคาซื้อ-ขาย</th>\n",
              "      <th>Unnamed: 9</th>\n",
              "      <th>Unnamed: 10</th>\n",
              "      <th>Unnamed: 11</th>\n",
              "      <th>Unnamed: 12</th>\n",
              "      <th>Unnamed: 13</th>\n",
              "    </tr>\n",
              "  </thead>\n",
              "  <tbody>\n",
              "    <tr>\n",
              "      <th>count</th>\n",
              "      <td>90.0</td>\n",
              "      <td>9.000000e+01</td>\n",
              "      <td>8.900000e+01</td>\n",
              "      <td>0.0</td>\n",
              "      <td>0.0</td>\n",
              "      <td>0.0</td>\n",
              "      <td>0.0</td>\n",
              "      <td>0.0</td>\n",
              "    </tr>\n",
              "    <tr>\n",
              "      <th>mean</th>\n",
              "      <td>2.0</td>\n",
              "      <td>4.240733e+06</td>\n",
              "      <td>4.153258e+06</td>\n",
              "      <td>NaN</td>\n",
              "      <td>NaN</td>\n",
              "      <td>NaN</td>\n",
              "      <td>NaN</td>\n",
              "      <td>NaN</td>\n",
              "    </tr>\n",
              "    <tr>\n",
              "      <th>std</th>\n",
              "      <td>0.0</td>\n",
              "      <td>2.714815e+06</td>\n",
              "      <td>2.386901e+06</td>\n",
              "      <td>NaN</td>\n",
              "      <td>NaN</td>\n",
              "      <td>NaN</td>\n",
              "      <td>NaN</td>\n",
              "      <td>NaN</td>\n",
              "    </tr>\n",
              "    <tr>\n",
              "      <th>min</th>\n",
              "      <td>2.0</td>\n",
              "      <td>3.900000e+05</td>\n",
              "      <td>9.900000e+05</td>\n",
              "      <td>NaN</td>\n",
              "      <td>NaN</td>\n",
              "      <td>NaN</td>\n",
              "      <td>NaN</td>\n",
              "      <td>NaN</td>\n",
              "    </tr>\n",
              "    <tr>\n",
              "      <th>25%</th>\n",
              "      <td>2.0</td>\n",
              "      <td>2.860000e+06</td>\n",
              "      <td>2.600000e+06</td>\n",
              "      <td>NaN</td>\n",
              "      <td>NaN</td>\n",
              "      <td>NaN</td>\n",
              "      <td>NaN</td>\n",
              "      <td>NaN</td>\n",
              "    </tr>\n",
              "    <tr>\n",
              "      <th>50%</th>\n",
              "      <td>2.0</td>\n",
              "      <td>4.000000e+06</td>\n",
              "      <td>3.900000e+06</td>\n",
              "      <td>NaN</td>\n",
              "      <td>NaN</td>\n",
              "      <td>NaN</td>\n",
              "      <td>NaN</td>\n",
              "      <td>NaN</td>\n",
              "    </tr>\n",
              "    <tr>\n",
              "      <th>75%</th>\n",
              "      <td>2.0</td>\n",
              "      <td>5.000000e+06</td>\n",
              "      <td>4.900000e+06</td>\n",
              "      <td>NaN</td>\n",
              "      <td>NaN</td>\n",
              "      <td>NaN</td>\n",
              "      <td>NaN</td>\n",
              "      <td>NaN</td>\n",
              "    </tr>\n",
              "    <tr>\n",
              "      <th>max</th>\n",
              "      <td>2.0</td>\n",
              "      <td>2.094900e+07</td>\n",
              "      <td>1.700000e+07</td>\n",
              "      <td>NaN</td>\n",
              "      <td>NaN</td>\n",
              "      <td>NaN</td>\n",
              "      <td>NaN</td>\n",
              "      <td>NaN</td>\n",
              "    </tr>\n",
              "  </tbody>\n",
              "</table>\n",
              "</div>\n",
              "      <button class=\"colab-df-convert\" onclick=\"convertToInteractive('df-995afc1a-c4c0-4ffb-9a89-dc6a0ae5a40f')\"\n",
              "              title=\"Convert this dataframe to an interactive table.\"\n",
              "              style=\"display:none;\">\n",
              "        \n",
              "  <svg xmlns=\"http://www.w3.org/2000/svg\" height=\"24px\"viewBox=\"0 0 24 24\"\n",
              "       width=\"24px\">\n",
              "    <path d=\"M0 0h24v24H0V0z\" fill=\"none\"/>\n",
              "    <path d=\"M18.56 5.44l.94 2.06.94-2.06 2.06-.94-2.06-.94-.94-2.06-.94 2.06-2.06.94zm-11 1L8.5 8.5l.94-2.06 2.06-.94-2.06-.94L8.5 2.5l-.94 2.06-2.06.94zm10 10l.94 2.06.94-2.06 2.06-.94-2.06-.94-.94-2.06-.94 2.06-2.06.94z\"/><path d=\"M17.41 7.96l-1.37-1.37c-.4-.4-.92-.59-1.43-.59-.52 0-1.04.2-1.43.59L10.3 9.45l-7.72 7.72c-.78.78-.78 2.05 0 2.83L4 21.41c.39.39.9.59 1.41.59.51 0 1.02-.2 1.41-.59l7.78-7.78 2.81-2.81c.8-.78.8-2.07 0-2.86zM5.41 20L4 18.59l7.72-7.72 1.47 1.35L5.41 20z\"/>\n",
              "  </svg>\n",
              "      </button>\n",
              "      \n",
              "  <style>\n",
              "    .colab-df-container {\n",
              "      display:flex;\n",
              "      flex-wrap:wrap;\n",
              "      gap: 12px;\n",
              "    }\n",
              "\n",
              "    .colab-df-convert {\n",
              "      background-color: #E8F0FE;\n",
              "      border: none;\n",
              "      border-radius: 50%;\n",
              "      cursor: pointer;\n",
              "      display: none;\n",
              "      fill: #1967D2;\n",
              "      height: 32px;\n",
              "      padding: 0 0 0 0;\n",
              "      width: 32px;\n",
              "    }\n",
              "\n",
              "    .colab-df-convert:hover {\n",
              "      background-color: #E2EBFA;\n",
              "      box-shadow: 0px 1px 2px rgba(60, 64, 67, 0.3), 0px 1px 3px 1px rgba(60, 64, 67, 0.15);\n",
              "      fill: #174EA6;\n",
              "    }\n",
              "\n",
              "    [theme=dark] .colab-df-convert {\n",
              "      background-color: #3B4455;\n",
              "      fill: #D2E3FC;\n",
              "    }\n",
              "\n",
              "    [theme=dark] .colab-df-convert:hover {\n",
              "      background-color: #434B5C;\n",
              "      box-shadow: 0px 1px 3px 1px rgba(0, 0, 0, 0.15);\n",
              "      filter: drop-shadow(0px 1px 2px rgba(0, 0, 0, 0.3));\n",
              "      fill: #FFFFFF;\n",
              "    }\n",
              "  </style>\n",
              "\n",
              "      <script>\n",
              "        const buttonEl =\n",
              "          document.querySelector('#df-995afc1a-c4c0-4ffb-9a89-dc6a0ae5a40f button.colab-df-convert');\n",
              "        buttonEl.style.display =\n",
              "          google.colab.kernel.accessAllowed ? 'block' : 'none';\n",
              "\n",
              "        async function convertToInteractive(key) {\n",
              "          const element = document.querySelector('#df-995afc1a-c4c0-4ffb-9a89-dc6a0ae5a40f');\n",
              "          const dataTable =\n",
              "            await google.colab.kernel.invokeFunction('convertToInteractive',\n",
              "                                                     [key], {});\n",
              "          if (!dataTable) return;\n",
              "\n",
              "          const docLinkHtml = 'Like what you see? Visit the ' +\n",
              "            '<a target=\"_blank\" href=https://colab.research.google.com/notebooks/data_table.ipynb>data table notebook</a>'\n",
              "            + ' to learn more about interactive tables.';\n",
              "          element.innerHTML = '';\n",
              "          dataTable['output_type'] = 'display_data';\n",
              "          await google.colab.output.renderOutput(dataTable, element);\n",
              "          const docLink = document.createElement('div');\n",
              "          docLink.innerHTML = docLinkHtml;\n",
              "          element.appendChild(docLink);\n",
              "        }\n",
              "      </script>\n",
              "    </div>\n",
              "  </div>\n",
              "  "
            ]
          },
          "metadata": {},
          "execution_count": 327
        }
      ]
    },
    {
      "cell_type": "markdown",
      "source": [
        "### นักประเมินคนที่ 1 ความมั่นใจในการประเมิน ประเมินราคาซื้อ-ขาย ให้คะแนนทรัพย์"
      ],
      "metadata": {
        "id": "HyEwzEOdYelr"
      }
    },
    {
      "cell_type": "code",
      "source": [
        "est1_home['ให้คะแนนทรัพย์'].value_counts()"
      ],
      "metadata": {
        "colab": {
          "base_uri": "https://localhost:8080/"
        },
        "id": "UuGw-PYhh6lH",
        "outputId": "32cc40fe-611c-4715-c461-8157943df05f"
      },
      "execution_count": null,
      "outputs": [
        {
          "output_type": "execute_result",
          "data": {
            "text/plain": [
              "2 ขายได้ยาก ใช้ระยะเวลามากว่า 1 ปี    54\n",
              "3 ขายได้ ใช้ระยะเวลา 7 - 12 เดือน     43\n",
              "4 ขายได้ ใช้ระยะเวลา 4 - 6 เดือน       2\n",
              "1 ขายไม่ได้แน่นอน                      1\n",
              "Name: ให้คะแนนทรัพย์, dtype: int64"
            ]
          },
          "metadata": {},
          "execution_count": 328
        }
      ]
    },
    {
      "cell_type": "code",
      "source": [
        "est1_home['ความมั่นใจในการเมินราคาทรัพย์'].value_counts()"
      ],
      "metadata": {
        "colab": {
          "base_uri": "https://localhost:8080/"
        },
        "id": "Khy5RX3MiTqD",
        "outputId": "4bb1ce52-1ba2-4247-ccf2-124956050116"
      },
      "execution_count": null,
      "outputs": [
        {
          "output_type": "execute_result",
          "data": {
            "text/plain": [
              "มั่นใจ    100\n",
              "Name: ความมั่นใจในการเมินราคาทรัพย์, dtype: int64"
            ]
          },
          "metadata": {},
          "execution_count": 329
        }
      ]
    },
    {
      "cell_type": "code",
      "source": [
        "est1_home.describe()['ประเมินราคาซื้อ-ขาย']"
      ],
      "metadata": {
        "id": "D4yl8AsaY2df",
        "outputId": "c9bd5154-11cf-485e-a4ed-a7504f948e96",
        "colab": {
          "base_uri": "https://localhost:8080/"
        }
      },
      "execution_count": null,
      "outputs": [
        {
          "output_type": "execute_result",
          "data": {
            "text/plain": [
              "count    1.000000e+02\n",
              "mean     3.938500e+06\n",
              "std      2.368553e+06\n",
              "min      6.000000e+05\n",
              "25%      2.775000e+06\n",
              "50%      3.600000e+06\n",
              "75%      4.500000e+06\n",
              "max      1.600000e+07\n",
              "Name: ประเมินราคาซื้อ-ขาย, dtype: float64"
            ]
          },
          "metadata": {},
          "execution_count": 330
        }
      ]
    },
    {
      "cell_type": "markdown",
      "source": [
        "### นักประเมินคนที่ 2 ความมั่นใจในการประเมิน ประเมินราคาซื้อ-ขาย ให้คะแนนทรัพย์"
      ],
      "metadata": {
        "id": "gpefxd9vYkde"
      }
    },
    {
      "cell_type": "code",
      "source": [
        "est2_home['ให้คะแนนทรัพย์'].value_counts()"
      ],
      "metadata": {
        "colab": {
          "base_uri": "https://localhost:8080/"
        },
        "id": "ffNAPWoIiZ6c",
        "outputId": "b1ed3fba-d3ae-4a69-a6cb-4db76498cabf"
      },
      "execution_count": null,
      "outputs": [
        {
          "output_type": "execute_result",
          "data": {
            "text/plain": [
              "3 ขายได้ ใช้ระยะเวลา 7 - 12 เดือน     64\n",
              "4 ขายได้ ใช้ระยะเวลา 4 - 6 เดือน      23\n",
              "5 ขายง่าย ใช้ระยะเวลา 1 - 3 เดือน      1\n",
              "2 ขายได้ยาก ใช้ระยะเวลามากว่า 1 ปี     1\n",
              "Name: ให้คะแนนทรัพย์, dtype: int64"
            ]
          },
          "metadata": {},
          "execution_count": 331
        }
      ]
    },
    {
      "cell_type": "code",
      "source": [
        "est2_home['ความมั่นใจในการเมินราคาทรัพย์'].value_counts()"
      ],
      "metadata": {
        "colab": {
          "base_uri": "https://localhost:8080/"
        },
        "id": "Gx_SMaFiifMx",
        "outputId": "c28cbe66-8c50-426c-9a58-8f747a6a7775"
      },
      "execution_count": null,
      "outputs": [
        {
          "output_type": "execute_result",
          "data": {
            "text/plain": [
              "มั่นใจ       89\n",
              "ไม่มั่นใจ     1\n",
              "Name: ความมั่นใจในการเมินราคาทรัพย์, dtype: int64"
            ]
          },
          "metadata": {},
          "execution_count": 332
        }
      ]
    },
    {
      "cell_type": "code",
      "source": [
        "est2_home.describe()['ประเมินราคาซื้อ-ขาย']"
      ],
      "metadata": {
        "id": "vOOR8nlLYzAJ",
        "outputId": "23500047-a8d4-4af9-8ddc-d4ed5b6297fb",
        "colab": {
          "base_uri": "https://localhost:8080/"
        }
      },
      "execution_count": null,
      "outputs": [
        {
          "output_type": "execute_result",
          "data": {
            "text/plain": [
              "count    8.900000e+01\n",
              "mean     4.153258e+06\n",
              "std      2.386901e+06\n",
              "min      9.900000e+05\n",
              "25%      2.600000e+06\n",
              "50%      3.900000e+06\n",
              "75%      4.900000e+06\n",
              "max      1.700000e+07\n",
              "Name: ประเมินราคาซื้อ-ขาย, dtype: float64"
            ]
          },
          "metadata": {},
          "execution_count": 333
        }
      ]
    },
    {
      "cell_type": "markdown",
      "source": [
        "#เปรียบเทียบความแตกต่างในการประเมินราคาทรัพย์แต่ละทรัพย์ของนักประเมินแต่ละคนของราคาตั้งขาย"
      ],
      "metadata": {
        "id": "rsj3KFVkjkY1"
      }
    },
    {
      "cell_type": "markdown",
      "source": [
        "## บ้าน"
      ],
      "metadata": {
        "id": "qYhlRxXuonj8"
      }
    },
    {
      "cell_type": "markdown",
      "source": [
        "### สร้างตาราง"
      ],
      "metadata": {
        "id": "pZREoz-v0l0q"
      }
    },
    {
      "cell_type": "code",
      "source": [
        "est2_home['ประเมินโดย2']  = est2_home['post id'].map(est2_home.set_index('post id')['ประเมินราคาซื้อ-ขาย'])"
      ],
      "metadata": {
        "id": "MaHgLVABZ29j",
        "outputId": "16976c22-af1c-4a3c-e2e0-a7ab5f0bbe52",
        "colab": {
          "base_uri": "https://localhost:8080/"
        }
      },
      "execution_count": null,
      "outputs": [
        {
          "output_type": "stream",
          "name": "stderr",
          "text": [
            "<ipython-input-334-a017043473c2>:1: SettingWithCopyWarning: \n",
            "A value is trying to be set on a copy of a slice from a DataFrame.\n",
            "Try using .loc[row_indexer,col_indexer] = value instead\n",
            "\n",
            "See the caveats in the documentation: https://pandas.pydata.org/pandas-docs/stable/user_guide/indexing.html#returning-a-view-versus-a-copy\n",
            "  est2_home['ประเมินโดย2']  = est2_home['post id'].map(est2_home.set_index('post id')['ประเมินราคาซื้อ-ขาย'])\n"
          ]
        }
      ]
    },
    {
      "cell_type": "code",
      "source": [
        "est2_home['ประเมินโดย1'] = est2_home['post id'].map(est1_home.set_index('post id')['ประเมินราคาซื้อ-ขาย'])\n",
        "est2_home.head()"
      ],
      "metadata": {
        "colab": {
          "base_uri": "https://localhost:8080/",
          "height": 929
        },
        "id": "bX0F7j7Ipo0p",
        "outputId": "42a72ef6-fc6b-42bb-a290-87eb27d75ff3"
      },
      "execution_count": null,
      "outputs": [
        {
          "output_type": "stream",
          "name": "stderr",
          "text": [
            "<ipython-input-335-b224819e6b7e>:1: SettingWithCopyWarning: \n",
            "A value is trying to be set on a copy of a slice from a DataFrame.\n",
            "Try using .loc[row_indexer,col_indexer] = value instead\n",
            "\n",
            "See the caveats in the documentation: https://pandas.pydata.org/pandas-docs/stable/user_guide/indexing.html#returning-a-view-versus-a-copy\n",
            "  est2_home['ประเมินโดย1'] = est2_home['post id'].map(est1_home.set_index('post id')['ประเมินราคาซื้อ-ขาย'])\n"
          ]
        },
        {
          "output_type": "execute_result",
          "data": {
            "text/plain": [
              "   ID ผู้ประเมิน                              post id property_type  \\\n",
              "1              2   https://nayoo.co/khonkaen/posts/25    บ้านเดี่ยว   \n",
              "3              2   https://nayoo.co/khonkaen/posts/33    บ้านเดี่ยว   \n",
              "5              2  https://nayoo.co/khonkaen/posts/495    บ้านเดี่ยว   \n",
              "7              2  https://nayoo.co/khonkaen/posts/564    บ้านเดี่ยว   \n",
              "9              2  https://nayoo.co/khonkaen/posts/566    บ้านเดี่ยว   \n",
              "\n",
              "  ความมั่นใจในการเมินราคาทรัพย์  ราคาทรัพย์  ประเมินราคาซื้อ-ขาย  \\\n",
              "1                        มั่นใจ   2700000.0            2700000.0   \n",
              "3                        มั่นใจ   2600000.0            2400000.0   \n",
              "5                        มั่นใจ   5900000.0            9000000.0   \n",
              "7                        มั่นใจ   4400000.0            3700000.0   \n",
              "9                        มั่นใจ   2750000.0            2500000.0   \n",
              "\n",
              "                      ปัจจัยในการประเมินราคาซื้อ-ขาย  \\\n",
              "1  โครงการนี้ราคาเสนอขาย 2,500,000-3,000,000 บาท/...   \n",
              "3   ราคาเสนอขายประมาณ 2,200,000 - 2,500,000 บาท/หลัง   \n",
              "5  โซนนี้ราคาซื้อขาย ประมาณ 10,000-20,000 บาท/ตาร...   \n",
              "7             เสนอขาย 3,500,000 - 4,200,000 บาท/หลัง   \n",
              "9        ราคาเสนอขาย 2,000,0000 - 2,800,000 บาท/หลัง   \n",
              "\n",
              "  เหตุผลไม่มั่นใจราคาประเมิน                     ให้คะแนนทรัพย์  Unnamed: 9  \\\n",
              "1                        NaN   4 ขายได้ ใช้ระยะเวลา 4 - 6 เดือน         NaN   \n",
              "3                        NaN  3 ขายได้ ใช้ระยะเวลา 7 - 12 เดือน         NaN   \n",
              "5                        NaN  5 ขายง่าย ใช้ระยะเวลา 1 - 3 เดือน         NaN   \n",
              "7                        NaN  3 ขายได้ ใช้ระยะเวลา 7 - 12 เดือน         NaN   \n",
              "9                        NaN  3 ขายได้ ใช้ระยะเวลา 7 - 12 เดือน         NaN   \n",
              "\n",
              "   Unnamed: 10  Unnamed: 11  Unnamed: 12  Unnamed: 13  ประเมินโดย2  \\\n",
              "1          NaN          NaN          NaN          NaN    2700000.0   \n",
              "3          NaN          NaN          NaN          NaN    2400000.0   \n",
              "5          NaN          NaN          NaN          NaN    9000000.0   \n",
              "7          NaN          NaN          NaN          NaN    3700000.0   \n",
              "9          NaN          NaN          NaN          NaN    2500000.0   \n",
              "\n",
              "   ประเมินโดย1  \n",
              "1    2500000.0  \n",
              "3    2200000.0  \n",
              "5    5000000.0  \n",
              "7    3500000.0  \n",
              "9    2500000.0  "
            ],
            "text/html": [
              "\n",
              "  <div id=\"df-29cefae1-777c-4e24-984c-84331c1df0c3\">\n",
              "    <div class=\"colab-df-container\">\n",
              "      <div>\n",
              "<style scoped>\n",
              "    .dataframe tbody tr th:only-of-type {\n",
              "        vertical-align: middle;\n",
              "    }\n",
              "\n",
              "    .dataframe tbody tr th {\n",
              "        vertical-align: top;\n",
              "    }\n",
              "\n",
              "    .dataframe thead th {\n",
              "        text-align: right;\n",
              "    }\n",
              "</style>\n",
              "<table border=\"1\" class=\"dataframe\">\n",
              "  <thead>\n",
              "    <tr style=\"text-align: right;\">\n",
              "      <th></th>\n",
              "      <th>ID ผู้ประเมิน</th>\n",
              "      <th>post id</th>\n",
              "      <th>property_type</th>\n",
              "      <th>ความมั่นใจในการเมินราคาทรัพย์</th>\n",
              "      <th>ราคาทรัพย์</th>\n",
              "      <th>ประเมินราคาซื้อ-ขาย</th>\n",
              "      <th>ปัจจัยในการประเมินราคาซื้อ-ขาย</th>\n",
              "      <th>เหตุผลไม่มั่นใจราคาประเมิน</th>\n",
              "      <th>ให้คะแนนทรัพย์</th>\n",
              "      <th>Unnamed: 9</th>\n",
              "      <th>Unnamed: 10</th>\n",
              "      <th>Unnamed: 11</th>\n",
              "      <th>Unnamed: 12</th>\n",
              "      <th>Unnamed: 13</th>\n",
              "      <th>ประเมินโดย2</th>\n",
              "      <th>ประเมินโดย1</th>\n",
              "    </tr>\n",
              "  </thead>\n",
              "  <tbody>\n",
              "    <tr>\n",
              "      <th>1</th>\n",
              "      <td>2</td>\n",
              "      <td>https://nayoo.co/khonkaen/posts/25</td>\n",
              "      <td>บ้านเดี่ยว</td>\n",
              "      <td>มั่นใจ</td>\n",
              "      <td>2700000.0</td>\n",
              "      <td>2700000.0</td>\n",
              "      <td>โครงการนี้ราคาเสนอขาย 2,500,000-3,000,000 บาท/...</td>\n",
              "      <td>NaN</td>\n",
              "      <td>4 ขายได้ ใช้ระยะเวลา 4 - 6 เดือน</td>\n",
              "      <td>NaN</td>\n",
              "      <td>NaN</td>\n",
              "      <td>NaN</td>\n",
              "      <td>NaN</td>\n",
              "      <td>NaN</td>\n",
              "      <td>2700000.0</td>\n",
              "      <td>2500000.0</td>\n",
              "    </tr>\n",
              "    <tr>\n",
              "      <th>3</th>\n",
              "      <td>2</td>\n",
              "      <td>https://nayoo.co/khonkaen/posts/33</td>\n",
              "      <td>บ้านเดี่ยว</td>\n",
              "      <td>มั่นใจ</td>\n",
              "      <td>2600000.0</td>\n",
              "      <td>2400000.0</td>\n",
              "      <td>ราคาเสนอขายประมาณ 2,200,000 - 2,500,000 บาท/หลัง</td>\n",
              "      <td>NaN</td>\n",
              "      <td>3 ขายได้ ใช้ระยะเวลา 7 - 12 เดือน</td>\n",
              "      <td>NaN</td>\n",
              "      <td>NaN</td>\n",
              "      <td>NaN</td>\n",
              "      <td>NaN</td>\n",
              "      <td>NaN</td>\n",
              "      <td>2400000.0</td>\n",
              "      <td>2200000.0</td>\n",
              "    </tr>\n",
              "    <tr>\n",
              "      <th>5</th>\n",
              "      <td>2</td>\n",
              "      <td>https://nayoo.co/khonkaen/posts/495</td>\n",
              "      <td>บ้านเดี่ยว</td>\n",
              "      <td>มั่นใจ</td>\n",
              "      <td>5900000.0</td>\n",
              "      <td>9000000.0</td>\n",
              "      <td>โซนนี้ราคาซื้อขาย ประมาณ 10,000-20,000 บาท/ตาร...</td>\n",
              "      <td>NaN</td>\n",
              "      <td>5 ขายง่าย ใช้ระยะเวลา 1 - 3 เดือน</td>\n",
              "      <td>NaN</td>\n",
              "      <td>NaN</td>\n",
              "      <td>NaN</td>\n",
              "      <td>NaN</td>\n",
              "      <td>NaN</td>\n",
              "      <td>9000000.0</td>\n",
              "      <td>5000000.0</td>\n",
              "    </tr>\n",
              "    <tr>\n",
              "      <th>7</th>\n",
              "      <td>2</td>\n",
              "      <td>https://nayoo.co/khonkaen/posts/564</td>\n",
              "      <td>บ้านเดี่ยว</td>\n",
              "      <td>มั่นใจ</td>\n",
              "      <td>4400000.0</td>\n",
              "      <td>3700000.0</td>\n",
              "      <td>เสนอขาย 3,500,000 - 4,200,000 บาท/หลัง</td>\n",
              "      <td>NaN</td>\n",
              "      <td>3 ขายได้ ใช้ระยะเวลา 7 - 12 เดือน</td>\n",
              "      <td>NaN</td>\n",
              "      <td>NaN</td>\n",
              "      <td>NaN</td>\n",
              "      <td>NaN</td>\n",
              "      <td>NaN</td>\n",
              "      <td>3700000.0</td>\n",
              "      <td>3500000.0</td>\n",
              "    </tr>\n",
              "    <tr>\n",
              "      <th>9</th>\n",
              "      <td>2</td>\n",
              "      <td>https://nayoo.co/khonkaen/posts/566</td>\n",
              "      <td>บ้านเดี่ยว</td>\n",
              "      <td>มั่นใจ</td>\n",
              "      <td>2750000.0</td>\n",
              "      <td>2500000.0</td>\n",
              "      <td>ราคาเสนอขาย 2,000,0000 - 2,800,000 บาท/หลัง</td>\n",
              "      <td>NaN</td>\n",
              "      <td>3 ขายได้ ใช้ระยะเวลา 7 - 12 เดือน</td>\n",
              "      <td>NaN</td>\n",
              "      <td>NaN</td>\n",
              "      <td>NaN</td>\n",
              "      <td>NaN</td>\n",
              "      <td>NaN</td>\n",
              "      <td>2500000.0</td>\n",
              "      <td>2500000.0</td>\n",
              "    </tr>\n",
              "  </tbody>\n",
              "</table>\n",
              "</div>\n",
              "      <button class=\"colab-df-convert\" onclick=\"convertToInteractive('df-29cefae1-777c-4e24-984c-84331c1df0c3')\"\n",
              "              title=\"Convert this dataframe to an interactive table.\"\n",
              "              style=\"display:none;\">\n",
              "        \n",
              "  <svg xmlns=\"http://www.w3.org/2000/svg\" height=\"24px\"viewBox=\"0 0 24 24\"\n",
              "       width=\"24px\">\n",
              "    <path d=\"M0 0h24v24H0V0z\" fill=\"none\"/>\n",
              "    <path d=\"M18.56 5.44l.94 2.06.94-2.06 2.06-.94-2.06-.94-.94-2.06-.94 2.06-2.06.94zm-11 1L8.5 8.5l.94-2.06 2.06-.94-2.06-.94L8.5 2.5l-.94 2.06-2.06.94zm10 10l.94 2.06.94-2.06 2.06-.94-2.06-.94-.94-2.06-.94 2.06-2.06.94z\"/><path d=\"M17.41 7.96l-1.37-1.37c-.4-.4-.92-.59-1.43-.59-.52 0-1.04.2-1.43.59L10.3 9.45l-7.72 7.72c-.78.78-.78 2.05 0 2.83L4 21.41c.39.39.9.59 1.41.59.51 0 1.02-.2 1.41-.59l7.78-7.78 2.81-2.81c.8-.78.8-2.07 0-2.86zM5.41 20L4 18.59l7.72-7.72 1.47 1.35L5.41 20z\"/>\n",
              "  </svg>\n",
              "      </button>\n",
              "      \n",
              "  <style>\n",
              "    .colab-df-container {\n",
              "      display:flex;\n",
              "      flex-wrap:wrap;\n",
              "      gap: 12px;\n",
              "    }\n",
              "\n",
              "    .colab-df-convert {\n",
              "      background-color: #E8F0FE;\n",
              "      border: none;\n",
              "      border-radius: 50%;\n",
              "      cursor: pointer;\n",
              "      display: none;\n",
              "      fill: #1967D2;\n",
              "      height: 32px;\n",
              "      padding: 0 0 0 0;\n",
              "      width: 32px;\n",
              "    }\n",
              "\n",
              "    .colab-df-convert:hover {\n",
              "      background-color: #E2EBFA;\n",
              "      box-shadow: 0px 1px 2px rgba(60, 64, 67, 0.3), 0px 1px 3px 1px rgba(60, 64, 67, 0.15);\n",
              "      fill: #174EA6;\n",
              "    }\n",
              "\n",
              "    [theme=dark] .colab-df-convert {\n",
              "      background-color: #3B4455;\n",
              "      fill: #D2E3FC;\n",
              "    }\n",
              "\n",
              "    [theme=dark] .colab-df-convert:hover {\n",
              "      background-color: #434B5C;\n",
              "      box-shadow: 0px 1px 3px 1px rgba(0, 0, 0, 0.15);\n",
              "      filter: drop-shadow(0px 1px 2px rgba(0, 0, 0, 0.3));\n",
              "      fill: #FFFFFF;\n",
              "    }\n",
              "  </style>\n",
              "\n",
              "      <script>\n",
              "        const buttonEl =\n",
              "          document.querySelector('#df-29cefae1-777c-4e24-984c-84331c1df0c3 button.colab-df-convert');\n",
              "        buttonEl.style.display =\n",
              "          google.colab.kernel.accessAllowed ? 'block' : 'none';\n",
              "\n",
              "        async function convertToInteractive(key) {\n",
              "          const element = document.querySelector('#df-29cefae1-777c-4e24-984c-84331c1df0c3');\n",
              "          const dataTable =\n",
              "            await google.colab.kernel.invokeFunction('convertToInteractive',\n",
              "                                                     [key], {});\n",
              "          if (!dataTable) return;\n",
              "\n",
              "          const docLinkHtml = 'Like what you see? Visit the ' +\n",
              "            '<a target=\"_blank\" href=https://colab.research.google.com/notebooks/data_table.ipynb>data table notebook</a>'\n",
              "            + ' to learn more about interactive tables.';\n",
              "          element.innerHTML = '';\n",
              "          dataTable['output_type'] = 'display_data';\n",
              "          await google.colab.output.renderOutput(dataTable, element);\n",
              "          const docLink = document.createElement('div');\n",
              "          docLink.innerHTML = docLinkHtml;\n",
              "          element.appendChild(docLink);\n",
              "        }\n",
              "      </script>\n",
              "    </div>\n",
              "  </div>\n",
              "  "
            ]
          },
          "metadata": {},
          "execution_count": 335
        }
      ]
    },
    {
      "cell_type": "code",
      "source": [
        "home_mape = est2_home[['post id','ราคาทรัพย์','ประเมินโดย1','ประเมินโดย2']]\n",
        "home_mape"
      ],
      "metadata": {
        "colab": {
          "base_uri": "https://localhost:8080/",
          "height": 424
        },
        "id": "3MTx0dd2rJC7",
        "outputId": "97e37676-bdab-41ed-aa5d-4d09c0ac4df7"
      },
      "execution_count": null,
      "outputs": [
        {
          "output_type": "execute_result",
          "data": {
            "text/plain": [
              "                                   post id  ราคาทรัพย์  ประเมินโดย1  \\\n",
              "1       https://nayoo.co/khonkaen/posts/25   2700000.0    2500000.0   \n",
              "3       https://nayoo.co/khonkaen/posts/33   2600000.0    2200000.0   \n",
              "5      https://nayoo.co/khonkaen/posts/495   5900000.0    5000000.0   \n",
              "7      https://nayoo.co/khonkaen/posts/564   4400000.0    3500000.0   \n",
              "9      https://nayoo.co/khonkaen/posts/566   2750000.0    2500000.0   \n",
              "..                                     ...         ...          ...   \n",
              "185  https://nayoo.co/khonkaen/posts/19495   5500000.0    4500000.0   \n",
              "186  https://nayoo.co/khonkaen/posts/19496   7911000.0    5200000.0   \n",
              "187     https://nayoo.co/khonkaen/posts/20   2000000.0    3600000.0   \n",
              "188     https://nayoo.co/khonkaen/posts/31   4000000.0    4000000.0   \n",
              "189    https://nayoo.co/khonkaen/posts/570   1375000.0    1200000.0   \n",
              "\n",
              "     ประเมินโดย2  \n",
              "1      2700000.0  \n",
              "3      2400000.0  \n",
              "5      9000000.0  \n",
              "7      3700000.0  \n",
              "9      2500000.0  \n",
              "..           ...  \n",
              "185    5000000.0  \n",
              "186    7400000.0  \n",
              "187    2500000.0  \n",
              "188    3900000.0  \n",
              "189    1400000.0  \n",
              "\n",
              "[90 rows x 4 columns]"
            ],
            "text/html": [
              "\n",
              "  <div id=\"df-6c0d724e-ebc7-4e7b-8dcf-3245f2644060\">\n",
              "    <div class=\"colab-df-container\">\n",
              "      <div>\n",
              "<style scoped>\n",
              "    .dataframe tbody tr th:only-of-type {\n",
              "        vertical-align: middle;\n",
              "    }\n",
              "\n",
              "    .dataframe tbody tr th {\n",
              "        vertical-align: top;\n",
              "    }\n",
              "\n",
              "    .dataframe thead th {\n",
              "        text-align: right;\n",
              "    }\n",
              "</style>\n",
              "<table border=\"1\" class=\"dataframe\">\n",
              "  <thead>\n",
              "    <tr style=\"text-align: right;\">\n",
              "      <th></th>\n",
              "      <th>post id</th>\n",
              "      <th>ราคาทรัพย์</th>\n",
              "      <th>ประเมินโดย1</th>\n",
              "      <th>ประเมินโดย2</th>\n",
              "    </tr>\n",
              "  </thead>\n",
              "  <tbody>\n",
              "    <tr>\n",
              "      <th>1</th>\n",
              "      <td>https://nayoo.co/khonkaen/posts/25</td>\n",
              "      <td>2700000.0</td>\n",
              "      <td>2500000.0</td>\n",
              "      <td>2700000.0</td>\n",
              "    </tr>\n",
              "    <tr>\n",
              "      <th>3</th>\n",
              "      <td>https://nayoo.co/khonkaen/posts/33</td>\n",
              "      <td>2600000.0</td>\n",
              "      <td>2200000.0</td>\n",
              "      <td>2400000.0</td>\n",
              "    </tr>\n",
              "    <tr>\n",
              "      <th>5</th>\n",
              "      <td>https://nayoo.co/khonkaen/posts/495</td>\n",
              "      <td>5900000.0</td>\n",
              "      <td>5000000.0</td>\n",
              "      <td>9000000.0</td>\n",
              "    </tr>\n",
              "    <tr>\n",
              "      <th>7</th>\n",
              "      <td>https://nayoo.co/khonkaen/posts/564</td>\n",
              "      <td>4400000.0</td>\n",
              "      <td>3500000.0</td>\n",
              "      <td>3700000.0</td>\n",
              "    </tr>\n",
              "    <tr>\n",
              "      <th>9</th>\n",
              "      <td>https://nayoo.co/khonkaen/posts/566</td>\n",
              "      <td>2750000.0</td>\n",
              "      <td>2500000.0</td>\n",
              "      <td>2500000.0</td>\n",
              "    </tr>\n",
              "    <tr>\n",
              "      <th>...</th>\n",
              "      <td>...</td>\n",
              "      <td>...</td>\n",
              "      <td>...</td>\n",
              "      <td>...</td>\n",
              "    </tr>\n",
              "    <tr>\n",
              "      <th>185</th>\n",
              "      <td>https://nayoo.co/khonkaen/posts/19495</td>\n",
              "      <td>5500000.0</td>\n",
              "      <td>4500000.0</td>\n",
              "      <td>5000000.0</td>\n",
              "    </tr>\n",
              "    <tr>\n",
              "      <th>186</th>\n",
              "      <td>https://nayoo.co/khonkaen/posts/19496</td>\n",
              "      <td>7911000.0</td>\n",
              "      <td>5200000.0</td>\n",
              "      <td>7400000.0</td>\n",
              "    </tr>\n",
              "    <tr>\n",
              "      <th>187</th>\n",
              "      <td>https://nayoo.co/khonkaen/posts/20</td>\n",
              "      <td>2000000.0</td>\n",
              "      <td>3600000.0</td>\n",
              "      <td>2500000.0</td>\n",
              "    </tr>\n",
              "    <tr>\n",
              "      <th>188</th>\n",
              "      <td>https://nayoo.co/khonkaen/posts/31</td>\n",
              "      <td>4000000.0</td>\n",
              "      <td>4000000.0</td>\n",
              "      <td>3900000.0</td>\n",
              "    </tr>\n",
              "    <tr>\n",
              "      <th>189</th>\n",
              "      <td>https://nayoo.co/khonkaen/posts/570</td>\n",
              "      <td>1375000.0</td>\n",
              "      <td>1200000.0</td>\n",
              "      <td>1400000.0</td>\n",
              "    </tr>\n",
              "  </tbody>\n",
              "</table>\n",
              "<p>90 rows × 4 columns</p>\n",
              "</div>\n",
              "      <button class=\"colab-df-convert\" onclick=\"convertToInteractive('df-6c0d724e-ebc7-4e7b-8dcf-3245f2644060')\"\n",
              "              title=\"Convert this dataframe to an interactive table.\"\n",
              "              style=\"display:none;\">\n",
              "        \n",
              "  <svg xmlns=\"http://www.w3.org/2000/svg\" height=\"24px\"viewBox=\"0 0 24 24\"\n",
              "       width=\"24px\">\n",
              "    <path d=\"M0 0h24v24H0V0z\" fill=\"none\"/>\n",
              "    <path d=\"M18.56 5.44l.94 2.06.94-2.06 2.06-.94-2.06-.94-.94-2.06-.94 2.06-2.06.94zm-11 1L8.5 8.5l.94-2.06 2.06-.94-2.06-.94L8.5 2.5l-.94 2.06-2.06.94zm10 10l.94 2.06.94-2.06 2.06-.94-2.06-.94-.94-2.06-.94 2.06-2.06.94z\"/><path d=\"M17.41 7.96l-1.37-1.37c-.4-.4-.92-.59-1.43-.59-.52 0-1.04.2-1.43.59L10.3 9.45l-7.72 7.72c-.78.78-.78 2.05 0 2.83L4 21.41c.39.39.9.59 1.41.59.51 0 1.02-.2 1.41-.59l7.78-7.78 2.81-2.81c.8-.78.8-2.07 0-2.86zM5.41 20L4 18.59l7.72-7.72 1.47 1.35L5.41 20z\"/>\n",
              "  </svg>\n",
              "      </button>\n",
              "      \n",
              "  <style>\n",
              "    .colab-df-container {\n",
              "      display:flex;\n",
              "      flex-wrap:wrap;\n",
              "      gap: 12px;\n",
              "    }\n",
              "\n",
              "    .colab-df-convert {\n",
              "      background-color: #E8F0FE;\n",
              "      border: none;\n",
              "      border-radius: 50%;\n",
              "      cursor: pointer;\n",
              "      display: none;\n",
              "      fill: #1967D2;\n",
              "      height: 32px;\n",
              "      padding: 0 0 0 0;\n",
              "      width: 32px;\n",
              "    }\n",
              "\n",
              "    .colab-df-convert:hover {\n",
              "      background-color: #E2EBFA;\n",
              "      box-shadow: 0px 1px 2px rgba(60, 64, 67, 0.3), 0px 1px 3px 1px rgba(60, 64, 67, 0.15);\n",
              "      fill: #174EA6;\n",
              "    }\n",
              "\n",
              "    [theme=dark] .colab-df-convert {\n",
              "      background-color: #3B4455;\n",
              "      fill: #D2E3FC;\n",
              "    }\n",
              "\n",
              "    [theme=dark] .colab-df-convert:hover {\n",
              "      background-color: #434B5C;\n",
              "      box-shadow: 0px 1px 3px 1px rgba(0, 0, 0, 0.15);\n",
              "      filter: drop-shadow(0px 1px 2px rgba(0, 0, 0, 0.3));\n",
              "      fill: #FFFFFF;\n",
              "    }\n",
              "  </style>\n",
              "\n",
              "      <script>\n",
              "        const buttonEl =\n",
              "          document.querySelector('#df-6c0d724e-ebc7-4e7b-8dcf-3245f2644060 button.colab-df-convert');\n",
              "        buttonEl.style.display =\n",
              "          google.colab.kernel.accessAllowed ? 'block' : 'none';\n",
              "\n",
              "        async function convertToInteractive(key) {\n",
              "          const element = document.querySelector('#df-6c0d724e-ebc7-4e7b-8dcf-3245f2644060');\n",
              "          const dataTable =\n",
              "            await google.colab.kernel.invokeFunction('convertToInteractive',\n",
              "                                                     [key], {});\n",
              "          if (!dataTable) return;\n",
              "\n",
              "          const docLinkHtml = 'Like what you see? Visit the ' +\n",
              "            '<a target=\"_blank\" href=https://colab.research.google.com/notebooks/data_table.ipynb>data table notebook</a>'\n",
              "            + ' to learn more about interactive tables.';\n",
              "          element.innerHTML = '';\n",
              "          dataTable['output_type'] = 'display_data';\n",
              "          await google.colab.output.renderOutput(dataTable, element);\n",
              "          const docLink = document.createElement('div');\n",
              "          docLink.innerHTML = docLinkHtml;\n",
              "          element.appendChild(docLink);\n",
              "        }\n",
              "      </script>\n",
              "    </div>\n",
              "  </div>\n",
              "  "
            ]
          },
          "metadata": {},
          "execution_count": 336
        }
      ]
    },
    {
      "cell_type": "markdown",
      "source": [
        "### MAPE"
      ],
      "metadata": {
        "id": "g5e9pov307WK"
      }
    },
    {
      "cell_type": "code",
      "source": [
        "from sklearn.metrics import mean_absolute_percentage_error"
      ],
      "metadata": {
        "id": "usPyDpfUaaAC"
      },
      "execution_count": null,
      "outputs": []
    },
    {
      "cell_type": "code",
      "source": [
        "a = home_mape['ราคาทรัพย์']\n",
        "a_pred_1 = home_mape['ประเมินโดย1']\n",
        "a_pred_2 = home_mape['ประเมินโดย2']"
      ],
      "metadata": {
        "id": "LksPG54Naum-"
      },
      "execution_count": null,
      "outputs": []
    },
    {
      "cell_type": "code",
      "source": [
        "mean_absolute_percentage_error(a,a_pred_1 )\n",
        "print(f'ค่า MAPE ระหว่าง ราคาทรัพย์(บ้าน) และ ราคาของผู้ประเมินคนที่1 เท่ากับ {mean_absolute_percentage_error(a,a_pred_1 )}')"
      ],
      "metadata": {
        "id": "w14u_bpMal0O",
        "outputId": "5641b885-74eb-4199-8112-c245fae188a6",
        "colab": {
          "base_uri": "https://localhost:8080/"
        }
      },
      "execution_count": null,
      "outputs": [
        {
          "output_type": "stream",
          "name": "stdout",
          "text": [
            "ค่า MAPE ระหว่าง ราคาทรัพย์(บ้าน) และ ราคาของผู้ประเมินคนที่1 เท่ากับ 0.12295717665618242\n"
          ]
        }
      ]
    },
    {
      "cell_type": "code",
      "source": [
        "mean_absolute_percentage_error(a,a_pred_2 )\n",
        "print(f'ค่า MAPE ระหว่าง ราคาทรัพย์(บ้าน) และ ราคาของผู้ประเมินคนที่2 เท่ากับ {mean_absolute_percentage_error(a,a_pred_2 )}')"
      ],
      "metadata": {
        "id": "DWn4mi7bbgcV",
        "outputId": "7024eb5a-8a81-4c1e-f0bc-3b64bccdf878",
        "colab": {
          "base_uri": "https://localhost:8080/",
          "height": 330
        }
      },
      "execution_count": null,
      "outputs": [
        {
          "output_type": "error",
          "ename": "ValueError",
          "evalue": "ignored",
          "traceback": [
            "\u001b[0;31m---------------------------------------------------------------------------\u001b[0m",
            "\u001b[0;31mValueError\u001b[0m                                Traceback (most recent call last)",
            "\u001b[0;32m<ipython-input-340-ae1bcff82ac3>\u001b[0m in \u001b[0;36m<module>\u001b[0;34m\u001b[0m\n\u001b[0;32m----> 1\u001b[0;31m \u001b[0mmean_absolute_percentage_error\u001b[0m\u001b[0;34m(\u001b[0m\u001b[0ma\u001b[0m\u001b[0;34m,\u001b[0m\u001b[0ma_pred_2\u001b[0m \u001b[0;34m)\u001b[0m\u001b[0;34m\u001b[0m\u001b[0;34m\u001b[0m\u001b[0m\n\u001b[0m\u001b[1;32m      2\u001b[0m \u001b[0mprint\u001b[0m\u001b[0;34m(\u001b[0m\u001b[0;34mf'ค่า MAPE ระหว่าง ราคาทรัพย์(บ้าน) และ ราคาของผู้ประเมินคนที่2 เท่ากับ {mean_absolute_percentage_error(a,a_pred_2 )}'\u001b[0m\u001b[0;34m)\u001b[0m\u001b[0;34m\u001b[0m\u001b[0;34m\u001b[0m\u001b[0m\n",
            "\u001b[0;32m/usr/local/lib/python3.8/dist-packages/sklearn/utils/validation.py\u001b[0m in \u001b[0;36minner_f\u001b[0;34m(*args, **kwargs)\u001b[0m\n\u001b[1;32m     63\u001b[0m             \u001b[0mextra_args\u001b[0m \u001b[0;34m=\u001b[0m \u001b[0mlen\u001b[0m\u001b[0;34m(\u001b[0m\u001b[0margs\u001b[0m\u001b[0;34m)\u001b[0m \u001b[0;34m-\u001b[0m \u001b[0mlen\u001b[0m\u001b[0;34m(\u001b[0m\u001b[0mall_args\u001b[0m\u001b[0;34m)\u001b[0m\u001b[0;34m\u001b[0m\u001b[0;34m\u001b[0m\u001b[0m\n\u001b[1;32m     64\u001b[0m             \u001b[0;32mif\u001b[0m \u001b[0mextra_args\u001b[0m \u001b[0;34m<=\u001b[0m \u001b[0;36m0\u001b[0m\u001b[0;34m:\u001b[0m\u001b[0;34m\u001b[0m\u001b[0;34m\u001b[0m\u001b[0m\n\u001b[0;32m---> 65\u001b[0;31m                 \u001b[0;32mreturn\u001b[0m \u001b[0mf\u001b[0m\u001b[0;34m(\u001b[0m\u001b[0;34m*\u001b[0m\u001b[0margs\u001b[0m\u001b[0;34m,\u001b[0m \u001b[0;34m**\u001b[0m\u001b[0mkwargs\u001b[0m\u001b[0;34m)\u001b[0m\u001b[0;34m\u001b[0m\u001b[0;34m\u001b[0m\u001b[0m\n\u001b[0m\u001b[1;32m     66\u001b[0m \u001b[0;34m\u001b[0m\u001b[0m\n\u001b[1;32m     67\u001b[0m             \u001b[0;31m# extra_args > 0\u001b[0m\u001b[0;34m\u001b[0m\u001b[0;34m\u001b[0m\u001b[0;34m\u001b[0m\u001b[0m\n",
            "\u001b[0;32m/usr/local/lib/python3.8/dist-packages/sklearn/metrics/_regression.py\u001b[0m in \u001b[0;36mmean_absolute_percentage_error\u001b[0;34m(y_true, y_pred, sample_weight, multioutput)\u001b[0m\n\u001b[1;32m    359\u001b[0m     \u001b[0;36m112589990684262.48\u001b[0m\u001b[0;34m\u001b[0m\u001b[0;34m\u001b[0m\u001b[0m\n\u001b[1;32m    360\u001b[0m     \"\"\"\n\u001b[0;32m--> 361\u001b[0;31m     y_type, y_true, y_pred, multioutput = _check_reg_targets(\n\u001b[0m\u001b[1;32m    362\u001b[0m         \u001b[0my_true\u001b[0m\u001b[0;34m,\u001b[0m \u001b[0my_pred\u001b[0m\u001b[0;34m,\u001b[0m \u001b[0mmultioutput\u001b[0m\u001b[0;34m\u001b[0m\u001b[0;34m\u001b[0m\u001b[0m\n\u001b[1;32m    363\u001b[0m     )\n",
            "\u001b[0;32m/usr/local/lib/python3.8/dist-packages/sklearn/metrics/_regression.py\u001b[0m in \u001b[0;36m_check_reg_targets\u001b[0;34m(y_true, y_pred, multioutput, dtype)\u001b[0m\n\u001b[1;32m     94\u001b[0m     \u001b[0mcheck_consistent_length\u001b[0m\u001b[0;34m(\u001b[0m\u001b[0my_true\u001b[0m\u001b[0;34m,\u001b[0m \u001b[0my_pred\u001b[0m\u001b[0;34m)\u001b[0m\u001b[0;34m\u001b[0m\u001b[0;34m\u001b[0m\u001b[0m\n\u001b[1;32m     95\u001b[0m     \u001b[0my_true\u001b[0m \u001b[0;34m=\u001b[0m \u001b[0mcheck_array\u001b[0m\u001b[0;34m(\u001b[0m\u001b[0my_true\u001b[0m\u001b[0;34m,\u001b[0m \u001b[0mensure_2d\u001b[0m\u001b[0;34m=\u001b[0m\u001b[0;32mFalse\u001b[0m\u001b[0;34m,\u001b[0m \u001b[0mdtype\u001b[0m\u001b[0;34m=\u001b[0m\u001b[0mdtype\u001b[0m\u001b[0;34m)\u001b[0m\u001b[0;34m\u001b[0m\u001b[0;34m\u001b[0m\u001b[0m\n\u001b[0;32m---> 96\u001b[0;31m     \u001b[0my_pred\u001b[0m \u001b[0;34m=\u001b[0m \u001b[0mcheck_array\u001b[0m\u001b[0;34m(\u001b[0m\u001b[0my_pred\u001b[0m\u001b[0;34m,\u001b[0m \u001b[0mensure_2d\u001b[0m\u001b[0;34m=\u001b[0m\u001b[0;32mFalse\u001b[0m\u001b[0;34m,\u001b[0m \u001b[0mdtype\u001b[0m\u001b[0;34m=\u001b[0m\u001b[0mdtype\u001b[0m\u001b[0;34m)\u001b[0m\u001b[0;34m\u001b[0m\u001b[0;34m\u001b[0m\u001b[0m\n\u001b[0m\u001b[1;32m     97\u001b[0m \u001b[0;34m\u001b[0m\u001b[0m\n\u001b[1;32m     98\u001b[0m     \u001b[0;32mif\u001b[0m \u001b[0my_true\u001b[0m\u001b[0;34m.\u001b[0m\u001b[0mndim\u001b[0m \u001b[0;34m==\u001b[0m \u001b[0;36m1\u001b[0m\u001b[0;34m:\u001b[0m\u001b[0;34m\u001b[0m\u001b[0;34m\u001b[0m\u001b[0m\n",
            "\u001b[0;32m/usr/local/lib/python3.8/dist-packages/sklearn/utils/validation.py\u001b[0m in \u001b[0;36mcheck_array\u001b[0;34m(array, accept_sparse, accept_large_sparse, dtype, order, copy, force_all_finite, ensure_2d, allow_nd, ensure_min_samples, ensure_min_features, estimator)\u001b[0m\n\u001b[1;32m    798\u001b[0m \u001b[0;34m\u001b[0m\u001b[0m\n\u001b[1;32m    799\u001b[0m         \u001b[0;32mif\u001b[0m \u001b[0mforce_all_finite\u001b[0m\u001b[0;34m:\u001b[0m\u001b[0;34m\u001b[0m\u001b[0;34m\u001b[0m\u001b[0m\n\u001b[0;32m--> 800\u001b[0;31m             \u001b[0m_assert_all_finite\u001b[0m\u001b[0;34m(\u001b[0m\u001b[0marray\u001b[0m\u001b[0;34m,\u001b[0m \u001b[0mallow_nan\u001b[0m\u001b[0;34m=\u001b[0m\u001b[0mforce_all_finite\u001b[0m \u001b[0;34m==\u001b[0m \u001b[0;34m\"allow-nan\"\u001b[0m\u001b[0;34m)\u001b[0m\u001b[0;34m\u001b[0m\u001b[0;34m\u001b[0m\u001b[0m\n\u001b[0m\u001b[1;32m    801\u001b[0m \u001b[0;34m\u001b[0m\u001b[0m\n\u001b[1;32m    802\u001b[0m     \u001b[0;32mif\u001b[0m \u001b[0mensure_min_samples\u001b[0m \u001b[0;34m>\u001b[0m \u001b[0;36m0\u001b[0m\u001b[0;34m:\u001b[0m\u001b[0;34m\u001b[0m\u001b[0;34m\u001b[0m\u001b[0m\n",
            "\u001b[0;32m/usr/local/lib/python3.8/dist-packages/sklearn/utils/validation.py\u001b[0m in \u001b[0;36m_assert_all_finite\u001b[0;34m(X, allow_nan, msg_dtype)\u001b[0m\n\u001b[1;32m    112\u001b[0m         ):\n\u001b[1;32m    113\u001b[0m             \u001b[0mtype_err\u001b[0m \u001b[0;34m=\u001b[0m \u001b[0;34m\"infinity\"\u001b[0m \u001b[0;32mif\u001b[0m \u001b[0mallow_nan\u001b[0m \u001b[0;32melse\u001b[0m \u001b[0;34m\"NaN, infinity\"\u001b[0m\u001b[0;34m\u001b[0m\u001b[0;34m\u001b[0m\u001b[0m\n\u001b[0;32m--> 114\u001b[0;31m             raise ValueError(\n\u001b[0m\u001b[1;32m    115\u001b[0m                 msg_err.format(\n\u001b[1;32m    116\u001b[0m                     \u001b[0mtype_err\u001b[0m\u001b[0;34m,\u001b[0m \u001b[0mmsg_dtype\u001b[0m \u001b[0;32mif\u001b[0m \u001b[0mmsg_dtype\u001b[0m \u001b[0;32mis\u001b[0m \u001b[0;32mnot\u001b[0m \u001b[0;32mNone\u001b[0m \u001b[0;32melse\u001b[0m \u001b[0mX\u001b[0m\u001b[0;34m.\u001b[0m\u001b[0mdtype\u001b[0m\u001b[0;34m\u001b[0m\u001b[0;34m\u001b[0m\u001b[0m\n",
            "\u001b[0;31mValueError\u001b[0m: Input contains NaN, infinity or a value too large for dtype('float64')."
          ]
        }
      ]
    },
    {
      "cell_type": "code",
      "source": [
        "mean_absolute_percentage_error(a_pred_1,a_pred_2 )\n",
        "print(f'ค่า MAPE ระหว่าง  ราคาของผู้ประเมินคนที่1 และ ราคาของผู้ประเมินคนที่2 เท่ากับ {mean_absolute_percentage_error(a_pred_1,a_pred_2 )}')"
      ],
      "metadata": {
        "id": "kHMXhAyQ2uLN"
      },
      "execution_count": null,
      "outputs": []
    },
    {
      "cell_type": "markdown",
      "source": [
        "## ที่ดิน"
      ],
      "metadata": {
        "id": "RyNoa9LTppQw"
      }
    },
    {
      "cell_type": "code",
      "source": [
        "land = pd.read_excel('/content/gdrive/MyDrive/bsc_DPBM_data_N/คำตอบนักประเมิน.xlsx',sheet_name=1)\n",
        "land.head()"
      ],
      "metadata": {
        "id": "RIYi3A74mv8V"
      },
      "execution_count": null,
      "outputs": []
    },
    {
      "cell_type": "markdown",
      "source": [
        "### สร้างตาราง"
      ],
      "metadata": {
        "id": "S7le2yyF2UuX"
      }
    },
    {
      "cell_type": "code",
      "source": [
        "est1_land = land [land ['ID ผู้ประเมิน']==1]"
      ],
      "metadata": {
        "id": "gJKMBeIWkyQ-"
      },
      "execution_count": null,
      "outputs": []
    },
    {
      "cell_type": "code",
      "source": [
        "est2_land = land [land ['ID ผู้ประเมิน']==2]"
      ],
      "metadata": {
        "id": "6L1cYm-Ykycj"
      },
      "execution_count": null,
      "outputs": []
    },
    {
      "cell_type": "code",
      "source": [
        "est1_land['ประเมินโดย1']  = est1_land['post id'].map(est1_land.set_index('post id')['ประเมินราคาซื้อ-ขาย'])"
      ],
      "metadata": {
        "id": "6VP4g0RrzcED"
      },
      "execution_count": null,
      "outputs": []
    },
    {
      "cell_type": "code",
      "source": [
        "est1_land['ประเมินโดย2']  = est1_land['post id'].map(est2_land.set_index('post id')['ประเมินราคาซื้อ-ขาย'])"
      ],
      "metadata": {
        "id": "ZOyq1wwrzyzp"
      },
      "execution_count": null,
      "outputs": []
    },
    {
      "cell_type": "code",
      "source": [
        "est1_land.head()"
      ],
      "metadata": {
        "id": "1MRVZGbd0MNd"
      },
      "execution_count": null,
      "outputs": []
    },
    {
      "cell_type": "code",
      "source": [
        "land_mape = est1_land[['post id','ราคาทรัพย์','ประเมินโดย1','ประเมินโดย2']]\n",
        "land_mape"
      ],
      "metadata": {
        "id": "AcwjD6kj0YNj"
      },
      "execution_count": null,
      "outputs": []
    },
    {
      "cell_type": "markdown",
      "source": [
        "### MAPE"
      ],
      "metadata": {
        "id": "o-jaMynn3HfS"
      }
    },
    {
      "cell_type": "code",
      "source": [
        "b = land_mape['ราคาทรัพย์']\n",
        "b_pred_1 = land_mape['ประเมินโดย1']\n",
        "b_pred_2 = land_mape['ประเมินโดย2']"
      ],
      "metadata": {
        "id": "0a3exSNg3i02"
      },
      "execution_count": null,
      "outputs": []
    },
    {
      "cell_type": "code",
      "source": [
        "mean_absolute_percentage_error(b,b_pred_1 )\n",
        "print(f'ค่า MAPE ระหว่าง ราคาทรัพย์(ที่ดิน) และ ราคาของผู้ประเมินคนที่1 เท่ากับ {mean_absolute_percentage_error(b,b_pred_1 )}')"
      ],
      "metadata": {
        "id": "pY20kCgX_MRh"
      },
      "execution_count": null,
      "outputs": []
    },
    {
      "cell_type": "code",
      "source": [
        "mean_absolute_percentage_error(b,b_pred_2 )\n",
        "print(f'ค่า MAPE ระหว่าง ราคาทรัพย์(ที่ดิน) และ ราคาของผู้ประเมินคนที่2 เท่ากับ {mean_absolute_percentage_error(b,b_pred_2 )}')"
      ],
      "metadata": {
        "id": "c6IzsDOMAFBR"
      },
      "execution_count": null,
      "outputs": []
    },
    {
      "cell_type": "code",
      "source": [
        "mean_absolute_percentage_error(b_pred_1,b_pred_2 )\n",
        "print(f'ค่า MAPE ระหว่าง ราคาของผู้ประเมินคนที่1 และ ราคาของผู้ประเมินคนที่2 เท่ากับ {mean_absolute_percentage_error(b_pred_1,b_pred_2 )}')"
      ],
      "metadata": {
        "id": "mX8HdYwcAJ6e"
      },
      "execution_count": null,
      "outputs": []
    },
    {
      "cell_type": "markdown",
      "source": [
        "## คอนโด"
      ],
      "metadata": {
        "id": "p77aJSi4jCU8"
      }
    },
    {
      "cell_type": "code",
      "source": [
        "condo = pd.read_excel('/content/gdrive/MyDrive/bsc_DPBM_data_N/คำตอบนักประเมิน.xlsx',sheet_name=2)\n",
        "condo.head()"
      ],
      "metadata": {
        "id": "vWVbdffsm30a"
      },
      "execution_count": null,
      "outputs": []
    },
    {
      "cell_type": "code",
      "source": [
        "condo['ประเมินโดย1'] = condo['ประเมินราคาซื้อ-ขาย']"
      ],
      "metadata": {
        "id": "NVLZHZt4DQz0"
      },
      "execution_count": null,
      "outputs": []
    },
    {
      "cell_type": "code",
      "source": [
        "condo_mape = condo[['post id','ราคาทรัพย์','ประเมินโดย1']]\n",
        "condo_mape"
      ],
      "metadata": {
        "id": "PD7yRXClGPIn"
      },
      "execution_count": null,
      "outputs": []
    },
    {
      "cell_type": "markdown",
      "source": [
        "### MAPE"
      ],
      "metadata": {
        "id": "jNWhIW2GC8eC"
      }
    },
    {
      "cell_type": "code",
      "source": [
        "c = condo_mape['ราคาทรัพย์']\n",
        "c_pred_1 = condo_mape['ประเมินโดย1']"
      ],
      "metadata": {
        "id": "PJxlzCrxC-nx"
      },
      "execution_count": null,
      "outputs": []
    },
    {
      "cell_type": "code",
      "source": [
        "mean_absolute_percentage_error(c,c_pred_1 )\n",
        "print(f'ค่า MAPE ระหว่าง ราคาทรัพย์(คอนโด) และ ราคาของผู้ประเมินคนที่1 เท่ากับ {mean_absolute_percentage_error(c,c_pred_1 )}')"
      ],
      "metadata": {
        "id": "uY1CnwVDDoDf"
      },
      "execution_count": null,
      "outputs": []
    },
    {
      "cell_type": "markdown",
      "source": [
        "## ทาว์นโฮม"
      ],
      "metadata": {
        "id": "IXjqhfwbjI7G"
      }
    },
    {
      "cell_type": "code",
      "source": [
        "townhome = pd.read_excel('/content/gdrive/MyDrive/bsc_DPBM_data_N/คำตอบนักประเมิน.xlsx',sheet_name=3)\n",
        "townhome.head()"
      ],
      "metadata": {
        "id": "KgVTcwbvm-wn"
      },
      "execution_count": null,
      "outputs": []
    },
    {
      "cell_type": "markdown",
      "source": [
        "### สร้างตาราง"
      ],
      "metadata": {
        "id": "JllWCFQTEVNh"
      }
    },
    {
      "cell_type": "code",
      "source": [
        "est1_townhome = townhome [townhome ['ID ผู้ประเมิน']==1]"
      ],
      "metadata": {
        "id": "XccpNYdiEgyN"
      },
      "execution_count": null,
      "outputs": []
    },
    {
      "cell_type": "code",
      "source": [
        "est2_townhome = townhome [townhome ['ID ผู้ประเมิน']==2]"
      ],
      "metadata": {
        "id": "d2LEo5jwEmfI"
      },
      "execution_count": null,
      "outputs": []
    },
    {
      "cell_type": "code",
      "source": [
        "print(len(est1_townhome))\n",
        "print(len(est2_townhome))"
      ],
      "metadata": {
        "id": "w5Jh-27DE0vg"
      },
      "execution_count": null,
      "outputs": []
    },
    {
      "cell_type": "code",
      "source": [
        "est1_townhome['ประเมินโดย1']  = est1_townhome['post id'].map(est1_townhome.set_index('post id')['ประเมินราคาซื้อ-ขาย'])"
      ],
      "metadata": {
        "id": "876QPRawEYrk"
      },
      "execution_count": null,
      "outputs": []
    },
    {
      "cell_type": "code",
      "source": [
        "est1_townhome['ประเมินโดย2']  = est1_townhome['post id'].map(est2_townhome.set_index('post id')['ประเมินราคาซื้อ-ขาย'])\n",
        "est1_townhome.head()"
      ],
      "metadata": {
        "id": "j4xL-QuNFQ7R"
      },
      "execution_count": null,
      "outputs": []
    },
    {
      "cell_type": "code",
      "source": [
        "townhome_mape = est1_townhome[['post id','ราคาทรัพย์','ประเมินโดย1','ประเมินโดย2']]\n",
        "townhome_mape"
      ],
      "metadata": {
        "id": "BVw78aOKFqCs"
      },
      "execution_count": null,
      "outputs": []
    },
    {
      "cell_type": "markdown",
      "source": [
        "### MAPE"
      ],
      "metadata": {
        "id": "83W182wyJ_aT"
      }
    },
    {
      "cell_type": "code",
      "source": [
        "d = townhome_mape['ราคาทรัพย์']\n",
        "d_pred_1 = townhome_mape['ประเมินโดย1']\n",
        "d_pred_2 = townhome_mape['ประเมินโดย2']"
      ],
      "metadata": {
        "id": "1n6Sz_9BKFot"
      },
      "execution_count": null,
      "outputs": []
    },
    {
      "cell_type": "code",
      "source": [
        "mean_absolute_percentage_error(d,d_pred_1 )\n",
        "print(f'ค่า MAPE ระหว่าง ราคาทรัพย์(ทาวน์โฮม) และ ราคาของผู้ประเมินคนที่1 เท่ากับ {mean_absolute_percentage_error(d,d_pred_1 )}')"
      ],
      "metadata": {
        "id": "iwOsiL_0KNTm"
      },
      "execution_count": null,
      "outputs": []
    },
    {
      "cell_type": "code",
      "source": [
        "mean_absolute_percentage_error(d,d_pred_2 )\n",
        "print(f'ค่า MAPE ระหว่าง ราคาทรัพย์(ทาวน์โฮม)  และ ราคาของผู้ประเมินคนที่2 เท่ากับ {mean_absolute_percentage_error(d,d_pred_2 )}')"
      ],
      "metadata": {
        "id": "LEzPYJXTKQiU"
      },
      "execution_count": null,
      "outputs": []
    },
    {
      "cell_type": "code",
      "source": [
        "mean_absolute_percentage_error(d_pred_1,d_pred_2 )\n",
        "print(f'ค่า MAPE ระหว่าง  ราคาของผู้ประเมินคนที่1 และ ราคาของผู้ประเมินคนที่2 เท่ากับ {mean_absolute_percentage_error(d_pred_1,d_pred_2 )}')"
      ],
      "metadata": {
        "id": "252WpqCYKS2U"
      },
      "execution_count": null,
      "outputs": []
    },
    {
      "cell_type": "markdown",
      "source": [
        "## อาคารพาณิชย์"
      ],
      "metadata": {
        "id": "jm-76UpXjUdJ"
      }
    },
    {
      "cell_type": "code",
      "source": [
        "commercial = pd.read_excel('/content/gdrive/MyDrive/bsc_DPBM_data_N/คำตอบนักประเมิน.xlsx',sheet_name=4)\n",
        "commercial.head()"
      ],
      "metadata": {
        "id": "HCZCJEbenK3W"
      },
      "execution_count": null,
      "outputs": []
    },
    {
      "cell_type": "markdown",
      "source": [
        "### สร้างตาราง"
      ],
      "metadata": {
        "id": "0TBmMZj_LLqP"
      }
    },
    {
      "cell_type": "code",
      "source": [
        "est1_commercial = commercial [commercial ['ID ผู้ประเมิน']==1]"
      ],
      "metadata": {
        "id": "mu7GiKXaLMCt"
      },
      "execution_count": null,
      "outputs": []
    },
    {
      "cell_type": "code",
      "source": [
        "est2_commercial = commercial [commercial ['ID ผู้ประเมิน']==2]"
      ],
      "metadata": {
        "id": "dB12LfYXLRZZ"
      },
      "execution_count": null,
      "outputs": []
    },
    {
      "cell_type": "code",
      "source": [
        "print(len(est1_commercial))\n",
        "print(len(est2_commercial))"
      ],
      "metadata": {
        "id": "MHh2-jbCLa4d"
      },
      "execution_count": null,
      "outputs": []
    },
    {
      "cell_type": "code",
      "source": [
        "est1_commercial['ประเมินโดย1']  = est1_commercial['post id'].map(est1_commercial.set_index('post id')['ประเมินราคาซื้อ-ขาย'])"
      ],
      "metadata": {
        "id": "civMloeBLhQM"
      },
      "execution_count": null,
      "outputs": []
    },
    {
      "cell_type": "code",
      "source": [
        "est1_commercial['ประเมินโดย2']  = est1_commercial['post id'].map(est2_commercial.set_index('post id')['ประเมินราคาซื้อ-ขาย'])\n",
        "est1_commercial.head(3)"
      ],
      "metadata": {
        "id": "hmChgiNNLu5T"
      },
      "execution_count": null,
      "outputs": []
    },
    {
      "cell_type": "code",
      "source": [
        "commercial_mape = est1_commercial[['post id','ราคาทรัพย์','ประเมินโดย1','ประเมินโดย2']]\n",
        "commercial_mape"
      ],
      "metadata": {
        "id": "HniwmzL8MLyc"
      },
      "execution_count": null,
      "outputs": []
    },
    {
      "cell_type": "markdown",
      "source": [
        "### MAPE"
      ],
      "metadata": {
        "id": "OtKXl19NMs9y"
      }
    },
    {
      "cell_type": "code",
      "source": [
        "e = commercial_mape['ราคาทรัพย์']\n",
        "e_pred_1 = commercial_mape['ประเมินโดย1']\n",
        "e_pred_2 = commercial_mape['ประเมินโดย2']"
      ],
      "metadata": {
        "id": "Igsx3WpxMzL3"
      },
      "execution_count": null,
      "outputs": []
    },
    {
      "cell_type": "code",
      "source": [
        "mean_absolute_percentage_error(e,e_pred_1 )\n",
        "print(f'ค่า MAPE ระหว่าง ราคาทรัพย์(อาคารพาณิชย์) และ ราคาของผู้ประเมินคนที่1 เท่ากับ {mean_absolute_percentage_error(e,e_pred_1 )}')"
      ],
      "metadata": {
        "id": "jb35CTzkM6Kf"
      },
      "execution_count": null,
      "outputs": []
    },
    {
      "cell_type": "code",
      "source": [
        "mean_absolute_percentage_error(e,e_pred_2)\n",
        "print(f'ค่า MAPE ระหว่าง ราคาทรัพย์(อาคารพาณิชย์) และ ราคาของผู้ประเมินคนที่2 เท่ากับ {mean_absolute_percentage_error(e,e_pred_2 )}')"
      ],
      "metadata": {
        "id": "g3ojXzi0NBEo"
      },
      "execution_count": null,
      "outputs": []
    },
    {
      "cell_type": "code",
      "source": [
        "mean_absolute_percentage_error(e_pred_1,e_pred_2)\n",
        "print(f'ค่า MAPE ระหว่าง ราคาของผู้ประเมินคนที่1 และ ราคาของผู้ประเมินคนที่2 เท่ากับ {mean_absolute_percentage_error(e_pred_1,e_pred_2 )}')"
      ],
      "metadata": {
        "id": "bydPtOHeNBTv"
      },
      "execution_count": null,
      "outputs": []
    },
    {
      "cell_type": "markdown",
      "source": [
        "##หาศูนย์เกิน"
      ],
      "metadata": {
        "id": "sSqkV4ClD55_"
      }
    },
    {
      "cell_type": "code",
      "source": [
        "def check_v(in1,in2):\n",
        "    return max(in1/in2,in2/in1)"
      ],
      "metadata": {
        "id": "yXZ8-C15K6-P"
      },
      "execution_count": null,
      "outputs": []
    },
    {
      "cell_type": "code",
      "source": [
        "check_v(250,2500)"
      ],
      "metadata": {
        "id": "1nh61Hq1Md-R"
      },
      "execution_count": null,
      "outputs": []
    },
    {
      "cell_type": "markdown",
      "source": [
        "## สร้าง column ใหม่ ลงในตาราง home โดย ค่าใน column คือค่าจาก function check(ราคาตั้งขาย,ราคาประเมิน1)"
      ],
      "metadata": {
        "id": "Z0r1kqcSL_-F"
      }
    },
    {
      "cell_type": "code",
      "source": [
        "check1 = list()\n",
        "for row in home_mape.iterrows():\n",
        "     check1.append(check_v(row[1]['ราคาทรัพย์'],row[1]['ประเมินโดย1']))\n",
        "check1"
      ],
      "metadata": {
        "id": "5N_Ld8b8Ogk2"
      },
      "execution_count": null,
      "outputs": []
    },
    {
      "cell_type": "code",
      "source": [
        "home_mape['check1'] = check1\n",
        "home_mape"
      ],
      "metadata": {
        "id": "JBtW6JQjQGQR"
      },
      "execution_count": null,
      "outputs": []
    },
    {
      "cell_type": "code",
      "source": [
        "check2 = list()\n",
        "for row in home_mape.iterrows():\n",
        "     check2.append(check_v(row[1]['ราคาทรัพย์'],row[1]['ประเมินโดย2']))\n",
        "check2"
      ],
      "metadata": {
        "id": "0ptINaKZQQZ9"
      },
      "execution_count": null,
      "outputs": []
    }
  ]
}